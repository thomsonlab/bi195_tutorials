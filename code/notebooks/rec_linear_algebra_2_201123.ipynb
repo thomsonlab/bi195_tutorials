{
 "cells": [
  {
   "cell_type": "markdown",
   "metadata": {},
   "source": [
    "## Swirling with complex exponentials "
   ]
  },
  {
   "cell_type": "code",
   "execution_count": null,
   "metadata": {
    "ExecuteTime": {
     "end_time": "2020-11-24T00:36:24.827873Z",
     "start_time": "2020-11-24T00:36:24.824802Z"
    }
   },
   "outputs": [],
   "source": [
    "# Install extra packages: uncomment the lines below if you're using Google Colab\n",
    "# !pip install holoviews\n",
    "# !pip install hvplot"
   ]
  },
  {
   "cell_type": "code",
   "execution_count": null,
   "metadata": {
    "ExecuteTime": {
     "end_time": "2020-11-24T00:32:13.492272Z",
     "start_time": "2020-11-24T00:32:13.381894Z"
    }
   },
   "outputs": [],
   "source": [
    "%load_ext blackcellmagic\n",
    "\n",
    "import numpy as np \n",
    "from scipy.linalg import lu\n",
    "import numpy.linalg as LA\n",
    "\n",
    "import pandas as pd\n",
    "import holoviews as hv\n",
    "import panel as pn\n",
    "\n",
    "hv.extension('bokeh')\n",
    "pn.extension()"
   ]
  },
  {
   "cell_type": "code",
   "execution_count": null,
   "metadata": {
    "ExecuteTime": {
     "end_time": "2020-11-24T00:32:00.791296Z",
     "start_time": "2020-11-24T00:32:00.786308Z"
    }
   },
   "outputs": [],
   "source": [
    "def make_rotation(theta): \n",
    "    \"Returns a 2D rotation matrix defined by an angle θ in radians.\"\n",
    "    rot = np.array(\n",
    "        [[np.cos(theta), -np.sin(theta)],\n",
    "         [np.sin(theta), np.cos(theta)]]\n",
    "    )\n",
    "    \n",
    "    return rot"
   ]
  },
  {
   "cell_type": "code",
   "execution_count": null,
   "metadata": {
    "ExecuteTime": {
     "end_time": "2020-11-24T00:36:06.464863Z",
     "start_time": "2020-11-24T00:36:06.461157Z"
    }
   },
   "outputs": [],
   "source": [
    "# Let's try it out\n",
    "rot = np.round(make_rotation(np.pi/2),3)"
   ]
  },
  {
   "cell_type": "code",
   "execution_count": null,
   "metadata": {
    "ExecuteTime": {
     "end_time": "2020-11-24T00:36:07.530055Z",
     "start_time": "2020-11-24T00:36:07.524313Z"
    }
   },
   "outputs": [],
   "source": [
    "rot"
   ]
  },
  {
   "cell_type": "markdown",
   "metadata": {},
   "source": [
    "Let's get the eigvals and eigenvectors using `np.linalg.eig()`"
   ]
  },
  {
   "cell_type": "code",
   "execution_count": null,
   "metadata": {
    "ExecuteTime": {
     "end_time": "2020-11-24T01:03:17.861951Z",
     "start_time": "2020-11-24T01:03:17.857850Z"
    }
   },
   "outputs": [],
   "source": []
  },
  {
   "cell_type": "markdown",
   "metadata": {},
   "source": [
    "### Intuition of imaginary eigenvalues"
   ]
  },
  {
   "cell_type": "markdown",
   "metadata": {},
   "source": [
    "As we will see in the upcoming weeks eigenvalue/eigenvector decomposition plays a very important role in multiple areas of science. You may probably have encountered complex eigenvalues already when working for the homework and may or may not have a clear picture of what types of operations these linear transformations encode. The goal of this short notebook is to intepret complex eigenvalues / eigenvectors using Euler's formula and rotation matrices. \n",
    "\n"
   ]
  },
  {
   "cell_type": "markdown",
   "metadata": {},
   "source": [
    "Euler's formula can be written as: "
   ]
  },
  {
   "cell_type": "markdown",
   "metadata": {},
   "source": [
    "$$\n",
    "\\mathrm{e}^{i \\theta} = \\cos \\theta + i \\sin \\theta \\\\[1em]\n",
    "$$"
   ]
  },
  {
   "cell_type": "markdown",
   "metadata": {},
   "source": [
    "More generally, any complex number $z \\in \\mathbb{C}$ can be written in polar form as: "
   ]
  },
  {
   "cell_type": "markdown",
   "metadata": {},
   "source": [
    "$$\n",
    "z = r \\mathrm{e}^{i \\theta}\n",
    "$$"
   ]
  },
  {
   "cell_type": "markdown",
   "metadata": {},
   "source": [
    "\n",
    "Where $r$ is the radius or modulus, and $\\theta$ is the angle or phase of the number. Here $z$ is intepreted as a point lying on the 2D plane  where the horizontal axis is the real part of the number $\\mathrm{Re}(z)$ and the vertical axis is the imaginary part $\\mathrm{Im}(z)$. "
   ]
  },
  {
   "cell_type": "markdown",
   "metadata": {},
   "source": [
    "That's why Euler's formula is thought of as a point in the unit circle, i.e. the magnitude of the complex number is equal to 1. "
   ]
  },
  {
   "cell_type": "markdown",
   "metadata": {},
   "source": [
    "Our goal is to visualize the relationship between $\\sin $ and $\\cos$ in Euler's formula on a 2d plot. Let's get started ! "
   ]
  },
  {
   "cell_type": "code",
   "execution_count": null,
   "metadata": {
    "ExecuteTime": {
     "end_time": "2020-11-22T22:26:52.455454Z",
     "start_time": "2020-11-22T22:26:52.453604Z"
    }
   },
   "outputs": [],
   "source": [
    "# Angle in radians \n",
    "theta = np.pi /4"
   ]
  },
  {
   "cell_type": "code",
   "execution_count": null,
   "metadata": {
    "ExecuteTime": {
     "end_time": "2020-11-22T22:26:52.460931Z",
     "start_time": "2020-11-22T22:26:52.458439Z"
    }
   },
   "outputs": [],
   "source": [
    "real = np.cos(theta)\n",
    "im = np.sin(theta)"
   ]
  },
  {
   "cell_type": "code",
   "execution_count": null,
   "metadata": {
    "ExecuteTime": {
     "end_time": "2020-11-22T22:26:52.470155Z",
     "start_time": "2020-11-22T22:26:52.463569Z"
    }
   },
   "outputs": [],
   "source": [
    "real"
   ]
  },
  {
   "cell_type": "code",
   "execution_count": null,
   "metadata": {
    "ExecuteTime": {
     "end_time": "2020-11-22T22:26:52.477858Z",
     "start_time": "2020-11-22T22:26:52.475133Z"
    }
   },
   "outputs": [],
   "source": [
    "im"
   ]
  },
  {
   "cell_type": "code",
   "execution_count": null,
   "metadata": {
    "ExecuteTime": {
     "end_time": "2020-11-22T22:26:52.530752Z",
     "start_time": "2020-11-22T22:26:52.480693Z"
    }
   },
   "outputs": [],
   "source": [
    "hv.Curve(([0, real], [0, im])).opts(\n",
    "    ylim = (-1.1,1.1),\n",
    "    xlim = (-1.1,1.1), \n",
    "    xlabel = 'Re(z)', \n",
    "    ylabel = 'Im(z)'\n",
    ")"
   ]
  },
  {
   "cell_type": "code",
   "execution_count": null,
   "metadata": {
    "ExecuteTime": {
     "end_time": "2020-11-22T22:26:52.536063Z",
     "start_time": "2020-11-22T22:26:52.533519Z"
    }
   },
   "outputs": [],
   "source": [
    "# Angle slider in degrees\n",
    "angle_slider = pn.param.FloatSlider(start = 0, end = 360, step = 5, value = 45, \n",
    "                                       name=\"Angle / phase (degrees)\")"
   ]
  },
  {
   "cell_type": "code",
   "execution_count": null,
   "metadata": {
    "ExecuteTime": {
     "end_time": "2020-11-22T22:26:52.547522Z",
     "start_time": "2020-11-22T22:26:52.543471Z"
    }
   },
   "outputs": [],
   "source": [
    "@pn.depends(angle_slider.param.value)\n",
    "def euler_vis(angle): \n",
    "    \n",
    "    angle_rad = np.deg2rad(angle)\n",
    "    \n",
    "    real = np.cos(angle_rad)\n",
    "    im = np.sin(angle_rad)\n",
    "    \n",
    "    return hv.Curve(([0, real], [0, im])).opts(\n",
    "        ylim = (-1.1,1.1),\n",
    "        xlim = (-1.1,1.1)\n",
    "    )"
   ]
  },
  {
   "cell_type": "code",
   "execution_count": null,
   "metadata": {
    "ExecuteTime": {
     "end_time": "2020-11-22T22:26:52.552490Z",
     "start_time": "2020-11-22T22:26:52.550458Z"
    }
   },
   "outputs": [],
   "source": [
    "#hv.extension('bokeh')\n",
    "\n",
    "#pn.Column(angle_slider, euler_vis)"
   ]
  },
  {
   "cell_type": "markdown",
   "metadata": {},
   "source": [
    "Now we want to visualize the value of cosine, sin too. "
   ]
  },
  {
   "cell_type": "code",
   "execution_count": null,
   "metadata": {
    "ExecuteTime": {
     "end_time": "2020-11-22T22:26:52.563287Z",
     "start_time": "2020-11-22T22:26:52.555362Z"
    }
   },
   "outputs": [],
   "source": [
    "@pn.depends(angle_slider.param.value)\n",
    "def euler_app(angle): \n",
    "    \n",
    "    angle_rad = np.deg2rad(angle)\n",
    "    \n",
    "    real = np.cos(angle_rad)\n",
    "    im = np.sin(angle_rad)\n",
    "    \n",
    "    x = hv.Curve(([0, real], [0, 0]), label = 'cos θ').opts(color = '#41ae76')\n",
    "    x_point = hv.Points(([real], [0])).opts(color = '#41ae76', size = 10)\n",
    "    \n",
    "    y = hv.Curve(([0, 0], [0, im]), label = 'sin θ').opts(color = '#4eb3d3')\n",
    "    y_point = hv.Points(([0], [im])).opts(color = '#4eb3d3', size = 10)\n",
    "    \n",
    "    z = hv.Curve(([0, real], [0, im]), label = 'exp(iθ)').opts(color = '#d7301f')\n",
    "    z_point = hv.Points(([real], [im])).opts(color = '#d7301f', size = 10)\n",
    "    \n",
    "    #plot = x*y*z\n",
    "    plot = x*x_point*y*y_point*z*z_point\n",
    "    \n",
    "    plot.opts(\n",
    "        ylim = (-1.1,1.1),\n",
    "        xlim = (-1.1,1.1), \n",
    "        #title = 'Euler identity', \n",
    "        show_grid = True,\n",
    "        legend_position = 'right', \n",
    "        height = 400, \n",
    "        width = 600,\n",
    "        xlabel = 'Re(z)',\n",
    "        ylabel = 'Im(z)', \n",
    "        tools = ['hover']\n",
    "    )\n",
    "    \n",
    "    return plot"
   ]
  },
  {
   "cell_type": "code",
   "execution_count": null,
   "metadata": {
    "ExecuteTime": {
     "end_time": "2020-11-22T22:27:06.444737Z",
     "start_time": "2020-11-22T22:27:06.193364Z"
    }
   },
   "outputs": [],
   "source": [
    "hv.extension('bokeh')\n",
    "pn.WidgetBox(\"## Euler's identity\", angle_slider, euler_app)"
   ]
  },
  {
   "cell_type": "markdown",
   "metadata": {},
   "source": [
    "This [blog post gives a decently thorough explanation and visualization of Euler's formula](http://www.songho.ca/math/euler/euler.html)."
   ]
  },
  {
   "cell_type": "code",
   "execution_count": null,
   "metadata": {},
   "outputs": [],
   "source": []
  }
 ],
 "metadata": {
  "kernelspec": {
   "display_name": "Python [conda env:maxwell] *",
   "language": "python",
   "name": "conda-env-maxwell-py"
  },
  "language_info": {
   "codemirror_mode": {
    "name": "ipython",
    "version": 3
   },
   "file_extension": ".py",
   "mimetype": "text/x-python",
   "name": "python",
   "nbconvert_exporter": "python",
   "pygments_lexer": "ipython3",
   "version": "3.7.6"
  },
  "toc": {
   "base_numbering": 1,
   "nav_menu": {},
   "number_sections": true,
   "sideBar": true,
   "skip_h1_title": false,
   "title_cell": "Table of Contents",
   "title_sidebar": "Contents",
   "toc_cell": false,
   "toc_position": {},
   "toc_section_display": true,
   "toc_window_display": false
  },
  "varInspector": {
   "cols": {
    "lenName": 16,
    "lenType": 16,
    "lenVar": 40
   },
   "kernels_config": {
    "python": {
     "delete_cmd_postfix": "",
     "delete_cmd_prefix": "del ",
     "library": "var_list.py",
     "varRefreshCmd": "print(var_dic_list())"
    },
    "r": {
     "delete_cmd_postfix": ") ",
     "delete_cmd_prefix": "rm(",
     "library": "var_list.r",
     "varRefreshCmd": "cat(var_dic_list()) "
    }
   },
   "types_to_exclude": [
    "module",
    "function",
    "builtin_function_or_method",
    "instance",
    "_Feature"
   ],
   "window_display": false
  }
 },
 "nbformat": 4,
 "nbformat_minor": 4
}
