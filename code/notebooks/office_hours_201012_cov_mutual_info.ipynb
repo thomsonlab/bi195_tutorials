{
 "cells": [
  {
   "cell_type": "markdown",
   "metadata": {},
   "source": [
    "### Office hours : covariance and mutual information"
   ]
  },
  {
   "cell_type": "code",
   "execution_count": 6,
   "metadata": {
    "ExecuteTime": {
     "end_time": "2020-10-12T05:47:26.108659Z",
     "start_time": "2020-10-12T05:47:25.797207Z"
    }
   },
   "outputs": [],
   "source": [
    "import numpy as np\n",
    "import pandas as pd\n",
    "import matplotlib.pyplot as plt"
   ]
  },
  {
   "cell_type": "markdown",
   "metadata": {},
   "source": [
    "Suppose we're interested in studying the association between smoking and developing cancer. We perform a random experiment by sampling adults of the US.\n",
    "\n",
    "Let $X$ be the indicator of being a current smoker and $Y$ the indicator of him/her developing cancer during his/her life. "
   ]
  },
  {
   "cell_type": "code",
   "execution_count": 14,
   "metadata": {
    "ExecuteTime": {
     "end_time": "2020-10-12T05:52:11.802906Z",
     "start_time": "2020-10-12T05:52:11.798993Z"
    }
   },
   "outputs": [],
   "source": [
    "arr = np.array([\n",
    "    [0.72, 0.03],\n",
    "    [0.2 , 0.05]]\n",
    ")"
   ]
  },
  {
   "cell_type": "code",
   "execution_count": 16,
   "metadata": {
    "ExecuteTime": {
     "end_time": "2020-10-12T05:53:09.194779Z",
     "start_time": "2020-10-12T05:53:09.188667Z"
    }
   },
   "outputs": [
    {
     "data": {
      "text/plain": [
       "array([[0.72, 0.03],\n",
       "       [0.2 , 0.05]])"
      ]
     },
     "execution_count": 16,
     "metadata": {},
     "output_type": "execute_result"
    }
   ],
   "source": [
    "arr"
   ]
  },
  {
   "cell_type": "markdown",
   "metadata": {
    "ExecuteTime": {
     "end_time": "2020-10-12T05:49:24.556961Z",
     "start_time": "2020-10-12T05:49:24.551204Z"
    }
   },
   "source": [
    "Let's make a dataframe for adding labels. "
   ]
  },
  {
   "cell_type": "code",
   "execution_count": 18,
   "metadata": {
    "ExecuteTime": {
     "end_time": "2020-10-12T05:55:07.664433Z",
     "start_time": "2020-10-12T05:55:07.658696Z"
    }
   },
   "outputs": [],
   "source": [
    "df_joint = pd.DataFrame(\n",
    "    arr, \n",
    "    index = pd.Index(data = ['X = 0', 'X = 1'], name = 'smoker'),\n",
    "    columns = pd.Index(data = ['Y = 0', 'Y = 1'], name = 'cancer')\n",
    ")"
   ]
  },
  {
   "cell_type": "code",
   "execution_count": 19,
   "metadata": {
    "ExecuteTime": {
     "end_time": "2020-10-12T05:55:10.099154Z",
     "start_time": "2020-10-12T05:55:10.086931Z"
    }
   },
   "outputs": [
    {
     "data": {
      "text/html": [
       "<div>\n",
       "<style scoped>\n",
       "    .dataframe tbody tr th:only-of-type {\n",
       "        vertical-align: middle;\n",
       "    }\n",
       "\n",
       "    .dataframe tbody tr th {\n",
       "        vertical-align: top;\n",
       "    }\n",
       "\n",
       "    .dataframe thead th {\n",
       "        text-align: right;\n",
       "    }\n",
       "</style>\n",
       "<table border=\"1\" class=\"dataframe\">\n",
       "  <thead>\n",
       "    <tr style=\"text-align: right;\">\n",
       "      <th>cancer</th>\n",
       "      <th>Y = 0</th>\n",
       "      <th>Y = 1</th>\n",
       "    </tr>\n",
       "    <tr>\n",
       "      <th>smoker</th>\n",
       "      <th></th>\n",
       "      <th></th>\n",
       "    </tr>\n",
       "  </thead>\n",
       "  <tbody>\n",
       "    <tr>\n",
       "      <th>X = 0</th>\n",
       "      <td>0.72</td>\n",
       "      <td>0.03</td>\n",
       "    </tr>\n",
       "    <tr>\n",
       "      <th>X = 1</th>\n",
       "      <td>0.20</td>\n",
       "      <td>0.05</td>\n",
       "    </tr>\n",
       "  </tbody>\n",
       "</table>\n",
       "</div>"
      ],
      "text/plain": [
       "cancer  Y = 0  Y = 1\n",
       "smoker              \n",
       "X = 0    0.72   0.03\n",
       "X = 1    0.20   0.05"
      ]
     },
     "execution_count": 19,
     "metadata": {},
     "output_type": "execute_result"
    }
   ],
   "source": [
    "df_joint"
   ]
  },
  {
   "cell_type": "markdown",
   "metadata": {},
   "source": [
    "Let's get the marginals. "
   ]
  },
  {
   "cell_type": "code",
   "execution_count": 20,
   "metadata": {
    "ExecuteTime": {
     "end_time": "2020-10-12T05:55:32.551525Z",
     "start_time": "2020-10-12T05:55:32.547237Z"
    }
   },
   "outputs": [],
   "source": [
    "df_x = df_joint.sum(axis = 'columns')"
   ]
  },
  {
   "cell_type": "code",
   "execution_count": 21,
   "metadata": {
    "ExecuteTime": {
     "end_time": "2020-10-12T05:55:34.652546Z",
     "start_time": "2020-10-12T05:55:34.645943Z"
    }
   },
   "outputs": [
    {
     "data": {
      "text/plain": [
       "smoker\n",
       "X = 0    0.75\n",
       "X = 1    0.25\n",
       "dtype: float64"
      ]
     },
     "execution_count": 21,
     "metadata": {},
     "output_type": "execute_result"
    }
   ],
   "source": [
    "df_x"
   ]
  },
  {
   "cell_type": "code",
   "execution_count": 26,
   "metadata": {
    "ExecuteTime": {
     "end_time": "2020-10-12T05:55:57.245585Z",
     "start_time": "2020-10-12T05:55:57.240699Z"
    }
   },
   "outputs": [],
   "source": [
    "df_y = df_joint.sum(axis = 'rows')"
   ]
  },
  {
   "cell_type": "code",
   "execution_count": 27,
   "metadata": {
    "ExecuteTime": {
     "end_time": "2020-10-12T05:55:57.495076Z",
     "start_time": "2020-10-12T05:55:57.488712Z"
    }
   },
   "outputs": [
    {
     "data": {
      "text/plain": [
       "cancer\n",
       "Y = 0    0.92\n",
       "Y = 1    0.08\n",
       "dtype: float64"
      ]
     },
     "execution_count": 27,
     "metadata": {},
     "output_type": "execute_result"
    }
   ],
   "source": [
    "df_y"
   ]
  },
  {
   "cell_type": "code",
   "execution_count": 30,
   "metadata": {
    "ExecuteTime": {
     "end_time": "2020-10-12T05:57:34.100707Z",
     "start_time": "2020-10-12T05:57:34.094159Z"
    }
   },
   "outputs": [
    {
     "data": {
      "text/plain": [
       "0.25"
      ]
     },
     "execution_count": 30,
     "metadata": {},
     "output_type": "execute_result"
    }
   ],
   "source": [
    "df_x[1]"
   ]
  },
  {
   "cell_type": "code",
   "execution_count": 31,
   "metadata": {
    "ExecuteTime": {
     "end_time": "2020-10-12T05:57:40.155920Z",
     "start_time": "2020-10-12T05:57:40.148985Z"
    }
   },
   "outputs": [
    {
     "data": {
      "text/plain": [
       "cancer\n",
       "Y = 0    0.92\n",
       "Y = 1    0.08\n",
       "dtype: float64"
      ]
     },
     "execution_count": 31,
     "metadata": {},
     "output_type": "execute_result"
    }
   ],
   "source": [
    "df_y"
   ]
  },
  {
   "cell_type": "code",
   "execution_count": 32,
   "metadata": {
    "ExecuteTime": {
     "end_time": "2020-10-12T05:57:50.633296Z",
     "start_time": "2020-10-12T05:57:50.629199Z"
    }
   },
   "outputs": [],
   "source": [
    "mean_x = df_x[1]\n",
    "mean_y = df_y[1]"
   ]
  },
  {
   "cell_type": "code",
   "execution_count": 34,
   "metadata": {
    "ExecuteTime": {
     "end_time": "2020-10-12T05:57:55.007550Z",
     "start_time": "2020-10-12T05:57:55.000261Z"
    }
   },
   "outputs": [
    {
     "data": {
      "text/plain": [
       "0.25"
      ]
     },
     "execution_count": 34,
     "metadata": {},
     "output_type": "execute_result"
    }
   ],
   "source": [
    "mean_x"
   ]
  },
  {
   "cell_type": "markdown",
   "metadata": {},
   "source": [
    "The covariance between $X$ and $Y$, denoted $\\text{Cov}(X,Y)$ is defined as\n",
    "$$\n",
    "\\text{Cov}(X,Y) = \\mathbb{E} \\left[ (X - \\mathbb{E}(X))( Y - \\mathbb{E}(Y)) \\right] \\\\[1em]\n",
    "= \\mathbb{E}_{P(X,Y)}(XY) - \\mathbb{E}_X(X) \\mathbb{E}_Y (Y)\n",
    "$$\n",
    "but a slightly easier to compute formula is the following: "
   ]
  },
  {
   "cell_type": "markdown",
   "metadata": {},
   "source": [
    "\n",
    "$$\n",
    "\\text{Cov}(X,Y) = \\frac{1}{n} \\sum_{i = 1}^n \\left( (x_i - \\mathbb{E}(X)) (y_i - \\mathbb{E}(y)) \\right)\n",
    "$$"
   ]
  },
  {
   "cell_type": "code",
   "execution_count": 40,
   "metadata": {
    "ExecuteTime": {
     "end_time": "2020-10-12T06:04:39.928452Z",
     "start_time": "2020-10-12T06:04:39.921275Z"
    }
   },
   "outputs": [
    {
     "name": "stdout",
     "output_type": "stream",
     "text": [
      "The covariance is 0.1775\n"
     ]
    }
   ],
   "source": [
    "cov = 1/4 * ((1-mean_x)*(1-mean_y) + (0-mean_x)*(0 - mean_y))\n",
    "\n",
    "cov = np.round(cov, 4)\n",
    "\n",
    "print(f'The covariance is {cov}')"
   ]
  },
  {
   "cell_type": "markdown",
   "metadata": {},
   "source": [
    "Remember that we can get the joints by: \n",
    "\n",
    "$$\n",
    "P(X|Y) = \\frac{P(X,Y)}{P(Y)}\\\\[2em]\n",
    "P(Y|X) = \\frac{P(X,Y)}{P(X)}\n",
    "$$"
   ]
  },
  {
   "cell_type": "code",
   "execution_count": 42,
   "metadata": {
    "ExecuteTime": {
     "end_time": "2020-10-12T06:07:21.974442Z",
     "start_time": "2020-10-12T06:07:21.964681Z"
    }
   },
   "outputs": [
    {
     "data": {
      "text/html": [
       "<div>\n",
       "<style scoped>\n",
       "    .dataframe tbody tr th:only-of-type {\n",
       "        vertical-align: middle;\n",
       "    }\n",
       "\n",
       "    .dataframe tbody tr th {\n",
       "        vertical-align: top;\n",
       "    }\n",
       "\n",
       "    .dataframe thead th {\n",
       "        text-align: right;\n",
       "    }\n",
       "</style>\n",
       "<table border=\"1\" class=\"dataframe\">\n",
       "  <thead>\n",
       "    <tr style=\"text-align: right;\">\n",
       "      <th>cancer</th>\n",
       "      <th>Y = 0</th>\n",
       "      <th>Y = 1</th>\n",
       "    </tr>\n",
       "    <tr>\n",
       "      <th>smoker</th>\n",
       "      <th></th>\n",
       "      <th></th>\n",
       "    </tr>\n",
       "  </thead>\n",
       "  <tbody>\n",
       "    <tr>\n",
       "      <th>X = 0</th>\n",
       "      <td>0.72</td>\n",
       "      <td>0.03</td>\n",
       "    </tr>\n",
       "    <tr>\n",
       "      <th>X = 1</th>\n",
       "      <td>0.20</td>\n",
       "      <td>0.05</td>\n",
       "    </tr>\n",
       "  </tbody>\n",
       "</table>\n",
       "</div>"
      ],
      "text/plain": [
       "cancer  Y = 0  Y = 1\n",
       "smoker              \n",
       "X = 0    0.72   0.03\n",
       "X = 1    0.20   0.05"
      ]
     },
     "execution_count": 42,
     "metadata": {},
     "output_type": "execute_result"
    }
   ],
   "source": [
    "df_joint"
   ]
  },
  {
   "cell_type": "code",
   "execution_count": 45,
   "metadata": {
    "ExecuteTime": {
     "end_time": "2020-10-12T06:07:42.726761Z",
     "start_time": "2020-10-12T06:07:42.722354Z"
    }
   },
   "outputs": [],
   "source": [
    "df_xgy = df_joint.div(df_y, axis = 1)"
   ]
  },
  {
   "cell_type": "code",
   "execution_count": 46,
   "metadata": {
    "ExecuteTime": {
     "end_time": "2020-10-12T06:07:43.129131Z",
     "start_time": "2020-10-12T06:07:43.121491Z"
    }
   },
   "outputs": [
    {
     "data": {
      "text/html": [
       "<div>\n",
       "<style scoped>\n",
       "    .dataframe tbody tr th:only-of-type {\n",
       "        vertical-align: middle;\n",
       "    }\n",
       "\n",
       "    .dataframe tbody tr th {\n",
       "        vertical-align: top;\n",
       "    }\n",
       "\n",
       "    .dataframe thead th {\n",
       "        text-align: right;\n",
       "    }\n",
       "</style>\n",
       "<table border=\"1\" class=\"dataframe\">\n",
       "  <thead>\n",
       "    <tr style=\"text-align: right;\">\n",
       "      <th>cancer</th>\n",
       "      <th>Y = 0</th>\n",
       "      <th>Y = 1</th>\n",
       "    </tr>\n",
       "    <tr>\n",
       "      <th>smoker</th>\n",
       "      <th></th>\n",
       "      <th></th>\n",
       "    </tr>\n",
       "  </thead>\n",
       "  <tbody>\n",
       "    <tr>\n",
       "      <th>X = 0</th>\n",
       "      <td>0.782609</td>\n",
       "      <td>0.375</td>\n",
       "    </tr>\n",
       "    <tr>\n",
       "      <th>X = 1</th>\n",
       "      <td>0.217391</td>\n",
       "      <td>0.625</td>\n",
       "    </tr>\n",
       "  </tbody>\n",
       "</table>\n",
       "</div>"
      ],
      "text/plain": [
       "cancer     Y = 0  Y = 1\n",
       "smoker                 \n",
       "X = 0   0.782609  0.375\n",
       "X = 1   0.217391  0.625"
      ]
     },
     "execution_count": 46,
     "metadata": {},
     "output_type": "execute_result"
    }
   ],
   "source": [
    "df_xgy"
   ]
  },
  {
   "cell_type": "code",
   "execution_count": 47,
   "metadata": {
    "ExecuteTime": {
     "end_time": "2020-10-12T06:07:56.558503Z",
     "start_time": "2020-10-12T06:07:56.553509Z"
    }
   },
   "outputs": [],
   "source": [
    "df_ygx = df_joint.div(df_x, axis = 0)"
   ]
  },
  {
   "cell_type": "code",
   "execution_count": 48,
   "metadata": {
    "ExecuteTime": {
     "end_time": "2020-10-12T06:07:58.639858Z",
     "start_time": "2020-10-12T06:07:58.629959Z"
    }
   },
   "outputs": [
    {
     "data": {
      "text/html": [
       "<div>\n",
       "<style scoped>\n",
       "    .dataframe tbody tr th:only-of-type {\n",
       "        vertical-align: middle;\n",
       "    }\n",
       "\n",
       "    .dataframe tbody tr th {\n",
       "        vertical-align: top;\n",
       "    }\n",
       "\n",
       "    .dataframe thead th {\n",
       "        text-align: right;\n",
       "    }\n",
       "</style>\n",
       "<table border=\"1\" class=\"dataframe\">\n",
       "  <thead>\n",
       "    <tr style=\"text-align: right;\">\n",
       "      <th>cancer</th>\n",
       "      <th>Y = 0</th>\n",
       "      <th>Y = 1</th>\n",
       "    </tr>\n",
       "    <tr>\n",
       "      <th>smoker</th>\n",
       "      <th></th>\n",
       "      <th></th>\n",
       "    </tr>\n",
       "  </thead>\n",
       "  <tbody>\n",
       "    <tr>\n",
       "      <th>X = 0</th>\n",
       "      <td>0.96</td>\n",
       "      <td>0.04</td>\n",
       "    </tr>\n",
       "    <tr>\n",
       "      <th>X = 1</th>\n",
       "      <td>0.80</td>\n",
       "      <td>0.20</td>\n",
       "    </tr>\n",
       "  </tbody>\n",
       "</table>\n",
       "</div>"
      ],
      "text/plain": [
       "cancer  Y = 0  Y = 1\n",
       "smoker              \n",
       "X = 0    0.96   0.04\n",
       "X = 1    0.80   0.20"
      ]
     },
     "execution_count": 48,
     "metadata": {},
     "output_type": "execute_result"
    }
   ],
   "source": [
    "df_ygx"
   ]
  },
  {
   "cell_type": "code",
   "execution_count": 56,
   "metadata": {
    "ExecuteTime": {
     "end_time": "2020-10-12T06:09:20.814737Z",
     "start_time": "2020-10-12T06:09:20.804039Z"
    }
   },
   "outputs": [
    {
     "data": {
      "text/html": [
       "<div>\n",
       "<style scoped>\n",
       "    .dataframe tbody tr th:only-of-type {\n",
       "        vertical-align: middle;\n",
       "    }\n",
       "\n",
       "    .dataframe tbody tr th {\n",
       "        vertical-align: top;\n",
       "    }\n",
       "\n",
       "    .dataframe thead th {\n",
       "        text-align: right;\n",
       "    }\n",
       "</style>\n",
       "<table border=\"1\" class=\"dataframe\">\n",
       "  <thead>\n",
       "    <tr style=\"text-align: right;\">\n",
       "      <th>cancer</th>\n",
       "      <th>Y = 0</th>\n",
       "      <th>Y = 1</th>\n",
       "    </tr>\n",
       "    <tr>\n",
       "      <th>smoker</th>\n",
       "      <th></th>\n",
       "      <th></th>\n",
       "    </tr>\n",
       "  </thead>\n",
       "  <tbody>\n",
       "    <tr>\n",
       "      <th>X = 0</th>\n",
       "      <td>0.72</td>\n",
       "      <td>0.03</td>\n",
       "    </tr>\n",
       "    <tr>\n",
       "      <th>X = 1</th>\n",
       "      <td>0.20</td>\n",
       "      <td>0.05</td>\n",
       "    </tr>\n",
       "  </tbody>\n",
       "</table>\n",
       "</div>"
      ],
      "text/plain": [
       "cancer  Y = 0  Y = 1\n",
       "smoker              \n",
       "X = 0    0.72   0.03\n",
       "X = 1    0.20   0.05"
      ]
     },
     "execution_count": 56,
     "metadata": {},
     "output_type": "execute_result"
    }
   ],
   "source": [
    "df_joint"
   ]
  },
  {
   "cell_type": "code",
   "execution_count": 53,
   "metadata": {
    "ExecuteTime": {
     "end_time": "2020-10-12T06:08:55.134202Z",
     "start_time": "2020-10-12T06:08:55.126370Z"
    }
   },
   "outputs": [
    {
     "data": {
      "text/plain": [
       "array([[0.72, 0.03],\n",
       "       [0.2 , 0.05]])"
      ]
     },
     "execution_count": 53,
     "metadata": {},
     "output_type": "execute_result"
    }
   ],
   "source": [
    "df_xgy.values * df_y.values"
   ]
  },
  {
   "cell_type": "code",
   "execution_count": 55,
   "metadata": {
    "ExecuteTime": {
     "end_time": "2020-10-12T06:09:09.804838Z",
     "start_time": "2020-10-12T06:09:09.797703Z"
    }
   },
   "outputs": [
    {
     "data": {
      "text/plain": [
       "array([[0.72, 0.03],\n",
       "       [0.2 , 0.05]])"
      ]
     },
     "execution_count": 55,
     "metadata": {},
     "output_type": "execute_result"
    }
   ],
   "source": [
    "df_ygx.values * df_x.values.reshape(-1,1)"
   ]
  },
  {
   "cell_type": "markdown",
   "metadata": {},
   "source": [
    "Let's now calculate the mutual information by computing first the conditional entropy $H(X|Y)$ , and then the mutual information. "
   ]
  },
  {
   "cell_type": "code",
   "execution_count": 57,
   "metadata": {
    "ExecuteTime": {
     "end_time": "2020-10-12T06:11:32.540404Z",
     "start_time": "2020-10-12T06:11:32.532798Z"
    }
   },
   "outputs": [],
   "source": [
    "def element_wise_information(px):\n",
    "    \"\"\"\n",
    "    Returns a numpy array with element wise information calculated as -log_2(p_i).\n",
    "    This quantity is also know as information or self-information:\n",
    "    https://en.wikipedia.org/wiki/Information_content\n",
    "    \n",
    "    Params\n",
    "    ------\n",
    "    px (np.array)\n",
    "        Array of individual probabilities, i.e. a probability vector or distribution.\n",
    "    \n",
    "    Returns\n",
    "    -------\n",
    "    information (np.array)\n",
    "        Array of element-wise information content.\n",
    "    \"\"\"\n",
    "    if isinstance(px, list):\n",
    "        px = np.array(px)\n",
    "        \n",
    "    # Make a copy of input array\n",
    "    information_content = px.copy()\n",
    "    \n",
    "    # Get indices of nonzero probability values\n",
    "    nz = np.nonzero(information_content)\n",
    "    \n",
    "    # Compute -log_2(p_i) element-wise\n",
    "    information_content[nz] *= - np.log2(information_content[nz])\n",
    "    \n",
    "    return information_content"
   ]
  },
  {
   "cell_type": "code",
   "execution_count": 62,
   "metadata": {
    "ExecuteTime": {
     "end_time": "2020-10-12T06:13:03.078146Z",
     "start_time": "2020-10-12T06:13:03.072607Z"
    }
   },
   "outputs": [],
   "source": [
    "def entropy(px): \n",
    "    \n",
    "    # Get nonzero indices \n",
    "    nz = np.nonzero(px)\n",
    "    \n",
    "    # Compute entropy \n",
    "    entropy = np.sum(-px[nz]*np.log2(px[nz]))\n",
    "    \n",
    "    return np.round(entropy, 4)"
   ]
  },
  {
   "cell_type": "code",
   "execution_count": 67,
   "metadata": {
    "ExecuteTime": {
     "end_time": "2020-10-12T06:15:12.690240Z",
     "start_time": "2020-10-12T06:15:12.680222Z"
    }
   },
   "outputs": [
    {
     "data": {
      "text/html": [
       "<div>\n",
       "<style scoped>\n",
       "    .dataframe tbody tr th:only-of-type {\n",
       "        vertical-align: middle;\n",
       "    }\n",
       "\n",
       "    .dataframe tbody tr th {\n",
       "        vertical-align: top;\n",
       "    }\n",
       "\n",
       "    .dataframe thead th {\n",
       "        text-align: right;\n",
       "    }\n",
       "</style>\n",
       "<table border=\"1\" class=\"dataframe\">\n",
       "  <thead>\n",
       "    <tr style=\"text-align: right;\">\n",
       "      <th>cancer</th>\n",
       "      <th>Y = 0</th>\n",
       "      <th>Y = 1</th>\n",
       "    </tr>\n",
       "    <tr>\n",
       "      <th>smoker</th>\n",
       "      <th></th>\n",
       "      <th></th>\n",
       "    </tr>\n",
       "  </thead>\n",
       "  <tbody>\n",
       "    <tr>\n",
       "      <th>X = 0</th>\n",
       "      <td>0.72</td>\n",
       "      <td>0.03</td>\n",
       "    </tr>\n",
       "    <tr>\n",
       "      <th>X = 1</th>\n",
       "      <td>0.20</td>\n",
       "      <td>0.05</td>\n",
       "    </tr>\n",
       "  </tbody>\n",
       "</table>\n",
       "</div>"
      ],
      "text/plain": [
       "cancer  Y = 0  Y = 1\n",
       "smoker              \n",
       "X = 0    0.72   0.03\n",
       "X = 1    0.20   0.05"
      ]
     },
     "execution_count": 67,
     "metadata": {},
     "output_type": "execute_result"
    }
   ],
   "source": [
    "df_joint"
   ]
  },
  {
   "cell_type": "code",
   "execution_count": 80,
   "metadata": {
    "ExecuteTime": {
     "end_time": "2020-10-12T06:17:16.773710Z",
     "start_time": "2020-10-12T06:17:16.770321Z"
    }
   },
   "outputs": [
    {
     "name": "stdout",
     "output_type": "stream",
     "text": [
      "Entropy of smoker random variable is: 0.8113 bits.\n"
     ]
    }
   ],
   "source": [
    "h_x = entropy(df_x.values)\n",
    "\n",
    "print(f'Entropy of smoker random variable is: {h_x} bits.')"
   ]
  },
  {
   "cell_type": "code",
   "execution_count": 83,
   "metadata": {
    "ExecuteTime": {
     "end_time": "2020-10-12T06:17:58.307877Z",
     "start_time": "2020-10-12T06:17:58.302865Z"
    }
   },
   "outputs": [],
   "source": [
    "p_y = df_y.values\n",
    "p_xgy = df_xgy.values\n",
    "h_xgy = np.sum(p_y*element_wise_information(p_xgy))"
   ]
  },
  {
   "cell_type": "code",
   "execution_count": 84,
   "metadata": {
    "ExecuteTime": {
     "end_time": "2020-10-12T06:17:58.631471Z",
     "start_time": "2020-10-12T06:17:58.625896Z"
    }
   },
   "outputs": [
    {
     "data": {
      "text/plain": [
       "0.7713000997905117"
      ]
     },
     "execution_count": 84,
     "metadata": {},
     "output_type": "execute_result"
    }
   ],
   "source": [
    "h_xgy"
   ]
  },
  {
   "cell_type": "code",
   "execution_count": 85,
   "metadata": {
    "ExecuteTime": {
     "end_time": "2020-10-12T06:17:58.893729Z",
     "start_time": "2020-10-12T06:17:58.890514Z"
    }
   },
   "outputs": [],
   "source": [
    "mi = np.round(h_x - h_xgy, 5)"
   ]
  },
  {
   "cell_type": "code",
   "execution_count": 86,
   "metadata": {
    "ExecuteTime": {
     "end_time": "2020-10-12T06:17:59.245568Z",
     "start_time": "2020-10-12T06:17:59.240505Z"
    }
   },
   "outputs": [
    {
     "name": "stdout",
     "output_type": "stream",
     "text": [
      "Mutual information of smoking and cancer random variates is : 0.04 bits\n"
     ]
    }
   ],
   "source": [
    "print(f'Mutual information of smoking and cancer random variates is : {mi} bits')"
   ]
  },
  {
   "cell_type": "markdown",
   "metadata": {},
   "source": [
    "For a perfectly correlated pair of Bernoulli   random variables we have "
   ]
  },
  {
   "cell_type": "code",
   "execution_count": 87,
   "metadata": {
    "ExecuteTime": {
     "end_time": "2020-10-12T06:22:28.465001Z",
     "start_time": "2020-10-12T06:22:28.460078Z"
    }
   },
   "outputs": [],
   "source": [
    "bern = np.array([\n",
    "    [0.5, 0], \n",
    "    [0, 0.5]\n",
    "])"
   ]
  },
  {
   "cell_type": "code",
   "execution_count": 88,
   "metadata": {
    "ExecuteTime": {
     "end_time": "2020-10-12T06:22:53.030472Z",
     "start_time": "2020-10-12T06:22:53.026245Z"
    }
   },
   "outputs": [],
   "source": [
    "bern_x = bern.sum(axis = 1)"
   ]
  },
  {
   "cell_type": "code",
   "execution_count": 89,
   "metadata": {
    "ExecuteTime": {
     "end_time": "2020-10-12T06:22:54.421557Z",
     "start_time": "2020-10-12T06:22:54.414746Z"
    }
   },
   "outputs": [
    {
     "data": {
      "text/plain": [
       "array([0.5, 0.5])"
      ]
     },
     "execution_count": 89,
     "metadata": {},
     "output_type": "execute_result"
    }
   ],
   "source": [
    "bern_x"
   ]
  },
  {
   "cell_type": "code",
   "execution_count": 90,
   "metadata": {
    "ExecuteTime": {
     "end_time": "2020-10-12T06:23:03.708303Z",
     "start_time": "2020-10-12T06:23:03.704101Z"
    }
   },
   "outputs": [],
   "source": [
    "bern_y = bern.sum(axis = 0)"
   ]
  },
  {
   "cell_type": "code",
   "execution_count": 91,
   "metadata": {
    "ExecuteTime": {
     "end_time": "2020-10-12T06:23:05.055976Z",
     "start_time": "2020-10-12T06:23:05.049512Z"
    }
   },
   "outputs": [
    {
     "data": {
      "text/plain": [
       "array([0.5, 0.5])"
      ]
     },
     "execution_count": 91,
     "metadata": {},
     "output_type": "execute_result"
    }
   ],
   "source": [
    "bern_y"
   ]
  },
  {
   "cell_type": "code",
   "execution_count": 92,
   "metadata": {
    "ExecuteTime": {
     "end_time": "2020-10-12T06:23:40.100232Z",
     "start_time": "2020-10-12T06:23:40.096352Z"
    }
   },
   "outputs": [],
   "source": [
    "bern_xgy = bern / bern_y"
   ]
  },
  {
   "cell_type": "code",
   "execution_count": 93,
   "metadata": {
    "ExecuteTime": {
     "end_time": "2020-10-12T06:23:43.016394Z",
     "start_time": "2020-10-12T06:23:43.010115Z"
    }
   },
   "outputs": [
    {
     "data": {
      "text/plain": [
       "array([[1., 0.],\n",
       "       [0., 1.]])"
      ]
     },
     "execution_count": 93,
     "metadata": {},
     "output_type": "execute_result"
    }
   ],
   "source": [
    "bern_xgy"
   ]
  },
  {
   "cell_type": "code",
   "execution_count": 94,
   "metadata": {
    "ExecuteTime": {
     "end_time": "2020-10-12T06:25:21.697305Z",
     "start_time": "2020-10-12T06:25:21.692859Z"
    }
   },
   "outputs": [],
   "source": [
    "h_xgy = np.sum(bern_y*element_wise_information(bern_xgy))"
   ]
  },
  {
   "cell_type": "code",
   "execution_count": 95,
   "metadata": {
    "ExecuteTime": {
     "end_time": "2020-10-12T06:25:28.098974Z",
     "start_time": "2020-10-12T06:25:28.092689Z"
    }
   },
   "outputs": [
    {
     "data": {
      "text/plain": [
       "0.0"
      ]
     },
     "execution_count": 95,
     "metadata": {},
     "output_type": "execute_result"
    }
   ],
   "source": [
    "h_xgy"
   ]
  },
  {
   "cell_type": "code",
   "execution_count": 96,
   "metadata": {
    "ExecuteTime": {
     "end_time": "2020-10-12T06:25:49.467022Z",
     "start_time": "2020-10-12T06:25:49.462902Z"
    }
   },
   "outputs": [],
   "source": [
    "h_x = entropy(bern_x)"
   ]
  },
  {
   "cell_type": "code",
   "execution_count": 97,
   "metadata": {
    "ExecuteTime": {
     "end_time": "2020-10-12T06:25:54.399060Z",
     "start_time": "2020-10-12T06:25:54.394054Z"
    }
   },
   "outputs": [
    {
     "data": {
      "text/plain": [
       "1.0"
      ]
     },
     "execution_count": 97,
     "metadata": {},
     "output_type": "execute_result"
    }
   ],
   "source": [
    "h_x"
   ]
  },
  {
   "cell_type": "code",
   "execution_count": 98,
   "metadata": {
    "ExecuteTime": {
     "end_time": "2020-10-12T06:26:10.378500Z",
     "start_time": "2020-10-12T06:26:10.372246Z"
    }
   },
   "outputs": [
    {
     "data": {
      "text/plain": [
       "1.0"
      ]
     },
     "execution_count": 98,
     "metadata": {},
     "output_type": "execute_result"
    }
   ],
   "source": [
    "mi = h_x - h_xgy\n",
    "mi"
   ]
  },
  {
   "cell_type": "code",
   "execution_count": null,
   "metadata": {},
   "outputs": [],
   "source": []
  }
 ],
 "metadata": {
  "kernelspec": {
   "display_name": "Python [conda env:maxwell] *",
   "language": "python",
   "name": "conda-env-maxwell-py"
  },
  "language_info": {
   "codemirror_mode": {
    "name": "ipython",
    "version": 3
   },
   "file_extension": ".py",
   "mimetype": "text/x-python",
   "name": "python",
   "nbconvert_exporter": "python",
   "pygments_lexer": "ipython3",
   "version": "3.7.6"
  },
  "toc": {
   "base_numbering": 1,
   "nav_menu": {},
   "number_sections": true,
   "sideBar": true,
   "skip_h1_title": false,
   "title_cell": "Table of Contents",
   "title_sidebar": "Contents",
   "toc_cell": false,
   "toc_position": {},
   "toc_section_display": true,
   "toc_window_display": false
  },
  "varInspector": {
   "cols": {
    "lenName": 16,
    "lenType": 16,
    "lenVar": 40
   },
   "kernels_config": {
    "python": {
     "delete_cmd_postfix": "",
     "delete_cmd_prefix": "del ",
     "library": "var_list.py",
     "varRefreshCmd": "print(var_dic_list())"
    },
    "r": {
     "delete_cmd_postfix": ") ",
     "delete_cmd_prefix": "rm(",
     "library": "var_list.r",
     "varRefreshCmd": "cat(var_dic_list()) "
    }
   },
   "types_to_exclude": [
    "module",
    "function",
    "builtin_function_or_method",
    "instance",
    "_Feature"
   ],
   "window_display": false
  }
 },
 "nbformat": 4,
 "nbformat_minor": 4
}
