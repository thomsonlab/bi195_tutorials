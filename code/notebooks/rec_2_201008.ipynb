{
 "cells": [
  {
   "cell_type": "code",
   "execution_count": null,
   "metadata": {},
   "outputs": [],
   "source": [
    "# Install extra packages: uncomment if in google collab\n",
    "\n",
    "!pip install holoviews\n",
    "!pip install hvplot"
   ]
  },
  {
   "cell_type": "markdown",
   "metadata": {},
   "source": [
    "### Recitation 2: Logic gates and information theory. "
   ]
  },
  {
   "cell_type": "markdown",
   "metadata": {},
   "source": [
    "> The goal of this tutorial is to get you geared up for solving the homework in an efficient manner using python. We'll learn how to compute mutual information between two discrete random variables using numpy. "
   ]
  },
  {
   "cell_type": "markdown",
   "metadata": {},
   "source": [
    "#### Introduction"
   ]
  },
  {
   "cell_type": "markdown",
   "metadata": {},
   "source": [
    "Information theory is the mathematical theory that aims to describes how to communicate efficiently (with low error and at a fast rate) through an imperfect channel. As we've seen in class, this is a major tool for analyzing biological systems, since it provides a way to quantify the non-linear coupling between random variables. During this tutorial, we will cover some of the concepts central to information theory and how to compute them using python. \n",
    "\n",
    "There is a very interesting history about how information theory came about, with big contributions from the [\"Young Turks\"](https://en.wikipedia.org/wiki/Young_Turks_(Bell_Labs)), a group of scientists and mathematicians working at Bell Labs. Of utmost importance, Claude Shannon, developed the foundations in a landmark paper titled [A Mathematical Theory of Communication](http://people.math.harvard.edu/~ctm/home/text/others/shannon/entropy/entropy.pdf). I highly recommend for you to read it, as it is a beautiful display of probabilistic and mathematical thinking. \n",
    "\n",
    "In this paper, Shannon defined the surprise (or information gain) of learning that an event $x$ with probability $p(x)$ will occur as:\n",
    "\n",
    "$$\n",
    "\\text{surprise / self-information (x)} = \\mathrm{log}_2 \\left( \\frac{1}{p(x)} \\right)\n",
    "$$\n",
    "\n",
    "This quantity is measured in a unit called bits. Low-probability events will have high surprise, while an event that has probability 1 of occurring has zero surprise. The $\\mathrm{log}$ is there so that if we observe multiple events, the total surprise is additive. The $\\mathrm{log}$ is abse 2 so that if we learn that an event with probability $\\frac{1}{2}$ happened, the surprise is 1 (we'll calculate this later on), we gain 1 bit of information. \n",
    "\n"
   ]
  },
  {
   "cell_type": "markdown",
   "metadata": {},
   "source": [
    "#### Entropy is the average surprise of learning a random variable"
   ]
  },
  {
   "cell_type": "markdown",
   "metadata": {},
   "source": [
    "As we saw in class, for a discrete r.v. $X$ that takes values $x_1, x_2, ...,x_n$ with probabilities $p_1, p_2, ..., p_n$ with $\\sum_{i} P(X = x_i) = \\sum_i^n p_i = 1$, the entropy of X is defined as the expected or average surprise of learning the value of X: \n",
    "\n",
    "$$\n",
    "H(X) = \\mathbb{E}_X \\left[ \\mathrm{log_2} \\, \\left( \\frac{1}{P(X)} \\right) \\right] \\\\[1.4em]\n",
    "= \\sum_{i = 1}^n p_i \\, \\mathrm{log_2}\\, \\left( \\frac{1}{p_i} \\right)\\\\[1.2em]\n",
    "= - \\sum_{i=1}^n  p_i \\, \\mathrm{log_2} \\, \\left( p_i \\right)\n",
    "$$"
   ]
  },
  {
   "cell_type": "markdown",
   "metadata": {},
   "source": [
    "Where the second equality arises from evaluating the formula of the generalized expectation or [law of unconscious statistician (LOTUS)](https://en.wikipedia.org/wiki/Law_of_the_unconscious_statistician). **Note that the entropy doesn't depend on the values the random variable takes, but only on the probability values !**"
   ]
  },
  {
   "cell_type": "markdown",
   "metadata": {},
   "source": [
    "Let's visualize the entropy for a binary random variable. "
   ]
  },
  {
   "cell_type": "code",
   "execution_count": null,
   "metadata": {
    "ExecuteTime": {
     "end_time": "2020-10-06T23:22:07.364167Z",
     "start_time": "2020-10-06T23:22:06.986554Z"
    }
   },
   "outputs": [],
   "source": [
    "import numpy as np\n",
    "import pandas as pd \n",
    "import itertools as it\n",
    "import matplotlib.pyplot as plt\n",
    "import holoviews as hv\n",
    "import string\n",
    "import seaborn as sns \n",
    "\n",
    "sns.set_style('dark')\n",
    "hv.extension('bokeh')\n",
    "\n",
    "#%load_ext blackcellmagic\n",
    "%config InlineBackend.figure_format = 'retina'"
   ]
  },
  {
   "cell_type": "markdown",
   "metadata": {},
   "source": [
    "Exercise: write down a function that returns the entropy of a Bernoulli random variable. "
   ]
  },
  {
   "cell_type": "code",
   "execution_count": null,
   "metadata": {
    "ExecuteTime": {
     "end_time": "2020-10-06T23:26:21.283032Z",
     "start_time": "2020-10-06T23:26:21.277495Z"
    }
   },
   "outputs": [],
   "source": [
    "def binary_entropy(p):\n",
    "    \"Returns the entropy of a Bernoulli r.v. with probability p\"\n",
    "    \n",
    "    #Write your code here\n",
    "    entropy = \n",
    "    \n",
    "    return entropy"
   ]
  },
  {
   "cell_type": "code",
   "execution_count": null,
   "metadata": {
    "ExecuteTime": {
     "end_time": "2020-10-07T00:20:26.244011Z",
     "start_time": "2020-10-07T00:20:26.238636Z"
    }
   },
   "outputs": [],
   "source": [
    "# Test the function ! \n",
    "binary_entropy(0.1)"
   ]
  },
  {
   "cell_type": "markdown",
   "metadata": {},
   "source": [
    "We can see that our function works. Now let's see if it actually returns the right values by calculating the entropy by hand. \n",
    "\n",
    "The entropy of a Bernoulli random variable with probability of success $p = 0.5$ is  : \n",
    "\n",
    "$$\n",
    "H(X) = \\mathbb{E}_X (- \\mathrm{log} \\, P(X)) \\\\[1.4em]\n",
    "= \\sum_{x \\in \\{0,1 \\}} P(X=x) \\,  \\mathrm{log}_2 \\, \\left(\\frac{1}{P(X = x)} \\right)\\\\[1em]\n",
    "= P(X = 0) \\times \\mathrm{log_2} \\frac{1}{P(X = 0)} + P(X = 1) \\times \\mathrm{log_2} \\frac{1}{P(X = 1)}\\\\[1em]\n",
    "= \\frac{1}{2} \\times \\mathrm{log_2} (2) + \\frac{1}{2} \\times \\mathrm{log_2} (2)\\\\[1em]\n",
    "\\mathrm{log_2}(2) = 1\n",
    "$$"
   ]
  },
  {
   "cell_type": "markdown",
   "metadata": {},
   "source": [
    "Let's see if we do get the answer. "
   ]
  },
  {
   "cell_type": "code",
   "execution_count": null,
   "metadata": {
    "ExecuteTime": {
     "end_time": "2020-10-06T23:26:25.438776Z",
     "start_time": "2020-10-06T23:26:25.433937Z"
    }
   },
   "outputs": [],
   "source": [
    "# Should return 1\n",
    "binary_entropy(0.5)"
   ]
  },
  {
   "cell_type": "markdown",
   "metadata": {},
   "source": [
    "Let's define a set of values for different probabilities $p_i$, and plot the resulting curve."
   ]
  },
  {
   "cell_type": "code",
   "execution_count": null,
   "metadata": {
    "ExecuteTime": {
     "end_time": "2020-10-06T23:25:47.543758Z",
     "start_time": "2020-10-06T23:25:47.541451Z"
    }
   },
   "outputs": [],
   "source": [
    "# Define an array of probability of success of \n",
    "# Bernoulli r.v.s\n",
    "ps = np.linspace(0, 1, 20)"
   ]
  },
  {
   "cell_type": "code",
   "execution_count": null,
   "metadata": {
    "ExecuteTime": {
     "end_time": "2020-10-06T23:29:02.829296Z",
     "start_time": "2020-10-06T23:29:02.825345Z"
    }
   },
   "outputs": [],
   "source": [
    "# Initalize list \n",
    "entropies = []\n",
    "\n",
    "for p in ps: \n",
    "#"
   ]
  },
  {
   "cell_type": "markdown",
   "metadata": {},
   "source": [
    "Whoa, we got an error! Let's inspect the binary entropy arrays. "
   ]
  },
  {
   "cell_type": "code",
   "execution_count": null,
   "metadata": {},
   "outputs": [],
   "source": [
    "# Take a look \n",
    "binary_entropy"
   ]
  },
  {
   "cell_type": "markdown",
   "metadata": {},
   "source": [
    "We can see that we got a Not-a-Number (NaN) value when we evaluate `binary_entropy()` with `p` = 0 and `p` = 1."
   ]
  },
  {
   "cell_type": "code",
   "execution_count": null,
   "metadata": {
    "ExecuteTime": {
     "end_time": "2020-10-06T23:32:02.913111Z",
     "start_time": "2020-10-06T23:32:02.906776Z"
    }
   },
   "outputs": [],
   "source": [
    "#We need to avoid this! \n",
    "np.log2(0)"
   ]
  },
  {
   "cell_type": "markdown",
   "metadata": {},
   "source": [
    "Exercise: Write a function that returns the entropy for a random variable "
   ]
  },
  {
   "cell_type": "code",
   "execution_count": null,
   "metadata": {
    "ExecuteTime": {
     "end_time": "2020-10-06T23:38:12.718973Z",
     "start_time": "2020-10-06T23:38:12.714525Z"
    }
   },
   "outputs": [],
   "source": [
    "ps = np.array([0.5, 0.5, 0])"
   ]
  },
  {
   "cell_type": "code",
   "execution_count": null,
   "metadata": {
    "ExecuteTime": {
     "end_time": "2020-10-06T23:38:24.848131Z",
     "start_time": "2020-10-06T23:38:24.841478Z"
    }
   },
   "outputs": [],
   "source": [
    "ps[np.nonzero(ps)]"
   ]
  },
  {
   "cell_type": "code",
   "execution_count": null,
   "metadata": {
    "ExecuteTime": {
     "end_time": "2020-10-06T23:39:34.105251Z",
     "start_time": "2020-10-06T23:39:34.098525Z"
    }
   },
   "outputs": [],
   "source": [
    "def entropy(ps): \n",
    "    \n",
    "    # Get nonzero indices\n",
    "    nz = \n",
    "\n",
    "    # Compute entropy for nonzero indices\n",
    "    entropy = \n",
    "    \n",
    "    return entropy"
   ]
  },
  {
   "cell_type": "code",
   "execution_count": null,
   "metadata": {
    "ExecuteTime": {
     "end_time": "2020-10-06T23:39:37.646333Z",
     "start_time": "2020-10-06T23:39:37.640604Z"
    }
   },
   "outputs": [],
   "source": [
    "entropy(ps)"
   ]
  },
  {
   "cell_type": "markdown",
   "metadata": {},
   "source": [
    "Let's make an array of probabilities. "
   ]
  },
  {
   "cell_type": "code",
   "execution_count": null,
   "metadata": {
    "ExecuteTime": {
     "end_time": "2020-10-06T23:41:25.494634Z",
     "start_time": "2020-10-06T23:41:25.488999Z"
    }
   },
   "outputs": [],
   "source": [
    "# Intialize empty array\n",
    "p_ = #\n",
    "\n",
    "q_ = #\n",
    "\n",
    "ps = np.hstack([p_.reshape(-1,1), q_.reshape(-1,1)])"
   ]
  },
  {
   "cell_type": "markdown",
   "metadata": {},
   "source": [
    "Let's re-evaluate the entropies"
   ]
  },
  {
   "cell_type": "code",
   "execution_count": null,
   "metadata": {
    "ExecuteTime": {
     "end_time": "2020-10-06T23:42:36.752326Z",
     "start_time": "2020-10-06T23:42:36.748072Z"
    }
   },
   "outputs": [],
   "source": [
    "entropies = []\n",
    "\n",
    "for i in range(len(ps)): \n"
   ]
  },
  {
   "cell_type": "markdown",
   "metadata": {},
   "source": [
    "\n",
    "We can see that we got no error back. "
   ]
  },
  {
   "cell_type": "code",
   "execution_count": null,
   "metadata": {
    "ExecuteTime": {
     "end_time": "2020-10-06T23:42:47.148280Z",
     "start_time": "2020-10-06T23:42:47.142103Z"
    }
   },
   "outputs": [],
   "source": [
    "entropies"
   ]
  },
  {
   "cell_type": "markdown",
   "metadata": {},
   "source": [
    "Let's plot the entropies ! "
   ]
  },
  {
   "cell_type": "code",
   "execution_count": null,
   "metadata": {
    "ExecuteTime": {
     "end_time": "2020-10-07T00:22:06.635406Z",
     "start_time": "2020-10-07T00:22:06.578844Z"
    }
   },
   "outputs": [],
   "source": [
    "hv.extension('bokeh')\n",
    "entropy_plot = hv.Curve((p_success, entropies)).opts(\n",
    "    title=\"Bern(p) entropy\", xlabel=\"probability of success\", ylabel=\"entropy\", color = 'salmon', \n",
    "    padding = 0.1\n",
    ")\n",
    "\n",
    "entropy_plot"
   ]
  },
  {
   "cell_type": "markdown",
   "metadata": {},
   "source": [
    "Does this plot ring a bell ? In lecture we saw that the variance of a Bernoulli random variable is $p(1-p)$. Let's quickly make a function of this formula and plot the variances for the $p_i$."
   ]
  },
  {
   "cell_type": "code",
   "execution_count": null,
   "metadata": {
    "ExecuteTime": {
     "end_time": "2020-10-06T23:44:49.610347Z",
     "start_time": "2020-10-06T23:44:49.606291Z"
    }
   },
   "outputs": [],
   "source": [
    "def variance_bernoulli(p): \n",
    "    return p*(1-p)"
   ]
  },
  {
   "cell_type": "code",
   "execution_count": null,
   "metadata": {
    "ExecuteTime": {
     "end_time": "2020-10-06T23:45:14.293682Z",
     "start_time": "2020-10-06T23:45:14.289640Z"
    }
   },
   "outputs": [],
   "source": [
    "variances = [  ]"
   ]
  },
  {
   "cell_type": "code",
   "execution_count": null,
   "metadata": {
    "ExecuteTime": {
     "end_time": "2020-10-06T23:58:31.839186Z",
     "start_time": "2020-10-06T23:58:31.828806Z"
    }
   },
   "outputs": [],
   "source": [
    "variance_plot = hv.Curve((p_success, variances)).opts(\n",
    "    title=\"Bern(p) variance\", xlabel=\"probability of success\", ylabel=\"entropy\", color = 'dodgerblue', \n",
    "    padding = 0.1\n",
    ")"
   ]
  },
  {
   "cell_type": "code",
   "execution_count": null,
   "metadata": {
    "ExecuteTime": {
     "end_time": "2020-10-06T23:58:35.515673Z",
     "start_time": "2020-10-06T23:58:35.472389Z"
    }
   },
   "outputs": [],
   "source": [
    "hv.extension('bokeh')\n",
    "variance_plot"
   ]
  },
  {
   "cell_type": "code",
   "execution_count": null,
   "metadata": {
    "ExecuteTime": {
     "end_time": "2020-10-07T00:23:46.879088Z",
     "start_time": "2020-10-07T00:23:46.765602Z"
    }
   },
   "outputs": [],
   "source": [
    "hv.extension('bokeh')\n",
    "variance_plot + entropy_plot"
   ]
  },
  {
   "cell_type": "markdown",
   "metadata": {},
   "source": [
    "### Quantifying information from coupled random variables \n"
   ]
  },
  {
   "cell_type": "markdown",
   "metadata": {},
   "source": [
    "Remember that the goal of this tutorial is to get you ready for computing the mutual information of noisy logic gates. In order to do so we have define a couple more concepts in order to make this tutorial self-contained. "
   ]
  },
  {
   "cell_type": "markdown",
   "metadata": {},
   "source": [
    "#### The Kullback - Leibler divergence quantifies the *distance* between distributions."
   ]
  },
  {
   "cell_type": "markdown",
   "metadata": {},
   "source": [
    "Building up towards the mutual information, an important metric to fully grasp the concepts is the Kullback-Leibler (KL) divergence. It is a metric that quantifies the distance between two probability distributions. Let $\\mathbf{q} = (q_1, q_2, ..., q_n)$ and $\\mathbf{p} = (p_1, p_2, .., p_n)$ be two discrete PMFs. The KL divergence between $\\mathbf{q}$ and $\\mathbf{p}$ is defined as: \n"
   ]
  },
  {
   "cell_type": "markdown",
   "metadata": {},
   "source": [
    "\n",
    "$$\n",
    "\\text{D}( \\mathbf{q} || \\mathbf{p} ) = \\sum_j q_j \\mathrm{log} \\left( \\frac{1}{p_j} \\right)- \\sum_j q_j \\mathrm{log} \\left(\\frac{1}{q_j} \\right)\n",
    "$$\n"
   ]
  },
  {
   "cell_type": "markdown",
   "metadata": {},
   "source": [
    "This metric thus represents the difference between the average surprise we will experience when the actual probabilities are $\\mathbf{q}$ but we are instead using $\\mathbf{p}$ as our current guess for $\\mathbf{q}$  and the average surprise of  $\\mathbf{q}$. \n",
    "\n",
    "The intuition is that because, we're using $\\mathbf{p}$ as a proxy for $\\mathbf{q}$, the term on the left $\\mathbb{E}_q [ \\mathrm{log_2} (1 / p)]$ will always be higher than the entropy of the true variable $\\mathbb{E}_q [ \\mathrm{log_2} (1 / q)]$. In other words, we will always be at least as surprised or more when working with an estimate of the true distribution that with the true distribution itself. There is a neat way to prove that the KL divergence is nonnegative using one of the most important inequalities in stats: the Jensen Inequality."
   ]
  },
  {
   "cell_type": "markdown",
   "metadata": {},
   "source": [
    "#### Brief detour: Jensen's inequality "
   ]
  },
  {
   "cell_type": "markdown",
   "metadata": {},
   "source": [
    "Let $X$ be a random variable. If $g$ is a convex function (in the sense that $g''(x) > 0$), then \n",
    "\n",
    "$$\n",
    "\\mathbb{E}(g(X)) > g ( \\mathbb{E} (X))\n",
    "$$\n",
    "\n",
    "if $g$ is a concave function, then the equality flips. Here is are some intuitive examples of Jensen's inequality. \n",
    "\n",
    " \n",
    "\\mathrm{Var} (x) = \\mathbb{E} (x^2) - \\mathbb{E} (x)^2. \\\\[.8em]\n",
    "\\text{because } \\mathrm{Var}(x) \\ge 0 \\\\[.8em]\n",
    "\\mathbb{E}(x^2) \\ge (\\mathbb{E}(x))^2 \\\\[.8em]\n",
    "\\text{reciprocally because log is a concave function}  \\\\[.7em]\n",
    "\\mathbb{E}(\\mathrm {log}(x)) \\le  \\mathrm \\log \\left(\\mathbb{E} (X) \\right)\n",
    "$$"
   ]
  },
  {
   "cell_type": "markdown",
   "metadata": {},
   "source": [
    "#### Conditional entropy"
   ]
  },
  {
   "cell_type": "markdown",
   "metadata": {},
   "source": [
    "Like conditional probabilities, we can have conditional entropies. The conditional entropy $H(X|Y)$ is the information you gain from observing a random variable $X$ conditioning on knowing the values of another random variable $Y$. Another way to think of the conditional entropy is as the average surprise of the conditional distribution $P(X | Y)$ after observing the distribution $P(Y)$.\n",
    "\n",
    "The conditional entropy is defined as : \n",
    "\n",
    "$$\n",
    "H(X | Y) = \\mathbb{E}_{P(y) } \\left[ - \\mathrm{log_2} P(X | Y) \\right] = - \\sum_{y \\in Y} P(Y = y) \\, \\mathrm{log}_2 \\, P(X | Y = y)  \n",
    "$$"
   ]
  },
  {
   "cell_type": "markdown",
   "metadata": {},
   "source": [
    "Similarly, the conditional entropy $H(Y|X)$ can be written as: "
   ]
  },
  {
   "cell_type": "markdown",
   "metadata": {},
   "source": [
    "$$\n",
    "H(Y|X)  = \\mathbb{E}_{P(X)} \\left[ - \\mathrm{log_2} \\, P(Y|X) \\right]\n",
    "$$"
   ]
  },
  {
   "cell_type": "markdown",
   "metadata": {},
   "source": [
    "Using both of this notions, we can finally now define the mutual information. "
   ]
  },
  {
   "cell_type": "markdown",
   "metadata": {},
   "source": [
    "#### Mutual information "
   ]
  },
  {
   "cell_type": "markdown",
   "metadata": {},
   "source": [
    "The mutual information of two discrete random variables $X$, $Y$ ($\\text{I(X,Y)}$) is the reduction in uncertainty of a random variable $X$ when get to know see the conditional distribution with another r.v. $(X|Y)$. Congruent with this notion, the mutual information is defined as:\n",
    "\n",
    "$$\n",
    "\\text{I(X,Y)} = \\text{H} (X) - \\text{H}(X|Y) = \\text{H} (Y) - \\text{H} (Y | X)\n",
    "$$\n",
    "\n",
    "Where $\\text{H}(X)$ is the entropy of $X$. A common way to visualize the concepts of entropy, conditional entropy and mutual information is the following: "
   ]
  },
  {
   "cell_type": "code",
   "execution_count": null,
   "metadata": {
    "ExecuteTime": {
     "end_time": "2020-10-07T00:54:09.925223Z",
     "start_time": "2020-10-07T00:54:09.922455Z"
    }
   },
   "outputs": [],
   "source": [
    "from IPython.display import Image"
   ]
  },
  {
   "cell_type": "code",
   "execution_count": null,
   "metadata": {
    "ExecuteTime": {
     "end_time": "2020-10-07T00:57:42.021388Z",
     "start_time": "2020-10-07T00:57:42.015401Z"
    }
   },
   "outputs": [],
   "source": [
    "Image(\n",
    "    url = 'https://upload.wikimedia.org/wikipedia/commons/2/2e/Conditional_entropy.png',\n",
    "    format = 'png',\n",
    "    width = 500,\n",
    "    height = 500\n",
    ")"
   ]
  },
  {
   "cell_type": "markdown",
   "metadata": {},
   "source": [
    "#### The mutual information is the KL divergence between the joint and the marginal distributions. "
   ]
  },
  {
   "cell_type": "markdown",
   "metadata": {},
   "source": [
    "We know that by definition, the mutual information between two discrete random variables is the KL divergence between the joint and the marginal distributions, i.e.: \n",
    "$$\n",
    "\\text{MI(X,Y)} = \\sum_{y \\in Y} \\sum_{x \\in X} P_{X,Y}(x, y) \\,  \\mathrm{log_2} \\left( \\frac{P_{X,Y}(x,y)}{P_{X}(x)P_Y(y))} \\right)\n",
    "$$\n",
    "\n",
    "This is a nice conceptual version, because we can see that in the limit where the joint and the marginal distributions are equal, i.e., the r.v.s X and Y are independent, the mutual information is close to zero.\n",
    "\n"
   ]
  },
  {
   "cell_type": "markdown",
   "metadata": {},
   "source": [
    "#### Brief detour: the Law of Total probability and the marginal distribution"
   ]
  },
  {
   "cell_type": "markdown",
   "metadata": {},
   "source": [
    "![LOTP](../../figs/LOTP.png)"
   ]
  },
  {
   "cell_type": "markdown",
   "metadata": {},
   "source": [
    "The Law of Total Probability states that the probability of disjoint events: \n",
    "\n",
    "$$\n",
    "P(B) = \\sum_{i} P(B \\cap A_i) =  \\sum_{i} P(B|A_i)P(A_i)\\\\[1em]\n",
    "\\text{a particular case is} \\\\\n",
    "P(B) = P(B | A) P(A) + P(B | A^c) P(A^c)\n",
    "$$\n",
    "\n"
   ]
  },
  {
   "cell_type": "markdown",
   "metadata": {},
   "source": [
    "Here's an example that we'll see in a bit. "
   ]
  },
  {
   "cell_type": "markdown",
   "metadata": {},
   "source": [
    "![joint](../../figs/p_xy.png)\n",
    "\n",
    "![px](../../figs/px_marg.png)\n",
    "\n",
    "![px](../../figs/py_marg.png)\n",
    "\n",
    "![cond](../../figs/p_cond.png)\n",
    "\n"
   ]
  },
  {
   "cell_type": "markdown",
   "metadata": {},
   "source": [
    "### Applying mutual information on the english language. "
   ]
  },
  {
   "cell_type": "markdown",
   "metadata": {},
   "source": [
    "We'll use an example Shannon used in his paper to estimate the redundancy of letters in the English language using information theory concepts. "
   ]
  },
  {
   "cell_type": "code",
   "execution_count": null,
   "metadata": {
    "ExecuteTime": {
     "end_time": "2020-10-09T00:31:05.113651Z",
     "start_time": "2020-10-09T00:31:05.070516Z"
    }
   },
   "outputs": [],
   "source": [
    "import toolz as tz\n",
    "from toolz import curried as c\n",
    "from collections import Counter\n",
    "import itertools as it\n",
    "import unicodedata\n",
    "import re\n",
    "from urllib.request import urlretrieve"
   ]
  },
  {
   "cell_type": "code",
   "execution_count": null,
   "metadata": {
    "ExecuteTime": {
     "end_time": "2020-10-09T00:31:05.572576Z",
     "start_time": "2020-10-09T00:31:05.569909Z"
    }
   },
   "outputs": [],
   "source": [
    "url= 'https://raw.githubusercontent.com/thomsonlab/bi195_tutorials/main/data/california_love.txt'"
   ]
  },
  {
   "cell_type": "code",
   "execution_count": null,
   "metadata": {
    "ExecuteTime": {
     "end_time": "2020-10-09T00:31:05.854960Z",
     "start_time": "2020-10-09T00:31:05.851993Z"
    }
   },
   "outputs": [],
   "source": [
    "fname = 'california_love.txt'"
   ]
  },
  {
   "cell_type": "code",
   "execution_count": null,
   "metadata": {
    "ExecuteTime": {
     "end_time": "2020-10-09T00:31:06.572419Z",
     "start_time": "2020-10-09T00:31:06.214460Z"
    }
   },
   "outputs": [],
   "source": [
    "urlretrieve(url, fname)"
   ]
  },
  {
   "cell_type": "code",
   "execution_count": null,
   "metadata": {
    "ExecuteTime": {
     "end_time": "2020-10-09T00:31:07.554965Z",
     "start_time": "2020-10-09T00:31:07.424609Z"
    }
   },
   "outputs": [],
   "source": [
    "! head -10 california_love.txt"
   ]
  },
  {
   "cell_type": "markdown",
   "metadata": {},
   "source": [
    " This uses on-memory filtering, so this function alone makes three passes to the data. Caution is neeeded "
   ]
  },
  {
   "cell_type": "code",
   "execution_count": null,
   "metadata": {
    "ExecuteTime": {
     "end_time": "2020-10-09T00:39:27.288523Z",
     "start_time": "2020-10-09T00:39:27.284200Z"
    }
   },
   "outputs": [],
   "source": [
    "def not_empty_line(line):\n",
    "    return len(re.sub('[^A-Za-z]', '', line.strip().lower())) > 0"
   ]
  },
  {
   "cell_type": "code",
   "execution_count": null,
   "metadata": {
    "ExecuteTime": {
     "end_time": "2020-10-09T00:39:27.719425Z",
     "start_time": "2020-10-09T00:39:27.714970Z"
    }
   },
   "outputs": [],
   "source": [
    "def read_file(path_to_file): \n",
    "    \"\"\"\n",
    "    Return a list of strings from a text file.\n",
    "    \"\"\"\n",
    "    with open(path_to_file, 'r') as f: \n",
    "        corpus = f.readlines()\n",
    "\n",
    "    # Remove empty lines \n",
    "    corpus = list(filter(not_empty_line, corpus))\n",
    "    \n",
    "    # Substitute all symbols not in the alphabet \n",
    "    # and lowercase all words \n",
    "    corpus = [re.sub('[^A-Za-z]', ' ', line.strip().lower()) for line in corpus]\n",
    "    \n",
    "    return corpus"
   ]
  },
  {
   "cell_type": "code",
   "execution_count": null,
   "metadata": {
    "ExecuteTime": {
     "end_time": "2020-10-09T00:39:14.884832Z",
     "start_time": "2020-10-09T00:39:14.881201Z"
    }
   },
   "outputs": [],
   "source": [
    "lines = read_file(fname)"
   ]
  },
  {
   "cell_type": "code",
   "execution_count": null,
   "metadata": {
    "ExecuteTime": {
     "end_time": "2020-10-09T00:39:15.231444Z",
     "start_time": "2020-10-09T00:39:15.228712Z"
    }
   },
   "outputs": [],
   "source": [
    "all_lines = ' '.join(lines)"
   ]
  },
  {
   "cell_type": "code",
   "execution_count": null,
   "metadata": {
    "ExecuteTime": {
     "end_time": "2020-10-09T00:39:15.761713Z",
     "start_time": "2020-10-09T00:39:15.757458Z"
    }
   },
   "outputs": [],
   "source": [
    "all_lines[:100]"
   ]
  },
  {
   "cell_type": "code",
   "execution_count": null,
   "metadata": {
    "ExecuteTime": {
     "end_time": "2020-10-09T00:37:07.246106Z",
     "start_time": "2020-10-09T00:37:07.240508Z"
    }
   },
   "outputs": [],
   "source": [
    "len(all_lines)"
   ]
  },
  {
   "cell_type": "code",
   "execution_count": null,
   "metadata": {
    "ExecuteTime": {
     "end_time": "2020-10-09T00:37:09.066742Z",
     "start_time": "2020-10-09T00:37:09.063037Z"
    }
   },
   "outputs": [],
   "source": [
    "alphabet= set(all_lines)"
   ]
  },
  {
   "cell_type": "code",
   "execution_count": null,
   "metadata": {
    "ExecuteTime": {
     "end_time": "2020-10-09T00:37:10.530919Z",
     "start_time": "2020-10-09T00:37:10.527347Z"
    }
   },
   "outputs": [],
   "source": [
    "alphabet_letters = sorted(list(alphabet))[1:]"
   ]
  },
  {
   "cell_type": "code",
   "execution_count": null,
   "metadata": {
    "ExecuteTime": {
     "end_time": "2020-10-09T00:37:10.792282Z",
     "start_time": "2020-10-09T00:37:10.789008Z"
    }
   },
   "outputs": [],
   "source": [
    "alphabet_letters[:10]"
   ]
  },
  {
   "cell_type": "code",
   "execution_count": null,
   "metadata": {
    "ExecuteTime": {
     "end_time": "2020-10-09T00:37:11.175288Z",
     "start_time": "2020-10-09T00:37:11.171891Z"
    }
   },
   "outputs": [],
   "source": [
    "len(alphabet_letters)"
   ]
  },
  {
   "cell_type": "code",
   "execution_count": null,
   "metadata": {
    "ExecuteTime": {
     "end_time": "2020-10-09T00:37:13.503779Z",
     "start_time": "2020-10-09T00:37:13.500975Z"
    }
   },
   "outputs": [],
   "source": [
    "def process_text(text): \n",
    "    \"Substitutes symbols in a string with a space.\"\n",
    "    text = re.sub('[^A-Za-z]', ' ', text.strip().lower())\n",
    "    return text"
   ]
  },
  {
   "cell_type": "code",
   "execution_count": null,
   "metadata": {
    "ExecuteTime": {
     "end_time": "2020-10-09T00:37:15.447651Z",
     "start_time": "2020-10-09T00:37:15.443320Z"
    }
   },
   "outputs": [],
   "source": [
    "def stream_file(fname):\n",
    "    \"\"\n",
    "    with open(fname) as f:\n",
    "        for line in f:\n",
    "            yield line"
   ]
  },
  {
   "cell_type": "code",
   "execution_count": null,
   "metadata": {
    "ExecuteTime": {
     "end_time": "2020-10-09T00:37:19.802260Z",
     "start_time": "2020-10-09T00:37:19.795692Z"
    }
   },
   "outputs": [],
   "source": [
    "next(stream_file(fname))"
   ]
  },
  {
   "cell_type": "code",
   "execution_count": null,
   "metadata": {
    "ExecuteTime": {
     "end_time": "2020-10-09T00:37:23.276184Z",
     "start_time": "2020-10-09T00:37:23.272397Z"
    }
   },
   "outputs": [],
   "source": [
    "g = stream_file(fname)"
   ]
  },
  {
   "cell_type": "code",
   "execution_count": null,
   "metadata": {
    "ExecuteTime": {
     "end_time": "2020-10-09T00:37:44.149954Z",
     "start_time": "2020-10-09T00:37:44.144053Z"
    }
   },
   "outputs": [],
   "source": [
    "not_empty_line(next(g))"
   ]
  },
  {
   "cell_type": "markdown",
   "metadata": {},
   "source": [
    "I've created a function that allows us to stream large files and get kmer counts already, so we can just go ahead and apply it to large datasets (see exercise at the final of the notebook)."
   ]
  },
  {
   "cell_type": "code",
   "execution_count": null,
   "metadata": {
    "ExecuteTime": {
     "end_time": "2020-10-09T00:37:47.243740Z",
     "start_time": "2020-10-09T00:37:47.236569Z"
    }
   },
   "outputs": [],
   "source": [
    "def get_counts_kmer_streaming(path_to_file, k=1): \n",
    "    \"\"\"\n",
    "    Returns a dictionary of kmer counts using streaming.\n",
    "    This function is designed to handle large files on-disk.\n",
    "    \n",
    "    Params \n",
    "    ------\n",
    "    path_to_file(str):\n",
    "        Path to the file to process. \n",
    "    \n",
    "    k(int, default = 1):\n",
    "        Size of the k-mer. \n",
    "        \n",
    "    Returns \n",
    "    -------\n",
    "    dict:\n",
    "        A dictionary whose keys are unique k-mers found in the file \n",
    "        and values are the frequencies of appearance. \n",
    "    \"\"\"\n",
    "    \n",
    "    return tz.pipe(\n",
    "        path_to_file,\n",
    "        stream_file, # Initializes line generator \n",
    "        c.filter(not_empty_line), # Gets lines with strings (not symbols or whitespaces)\n",
    "        c.map(process_text), # Eliminate symbols \n",
    "        c.map(str.strip), # Eliminate white space at the end of line\n",
    "        c.map(str.split), # Split into words\n",
    "        tz.concat, # Concatenate word iterator\n",
    "        c.map(c.sliding_window(k)), # Make k-mer tuples\n",
    "        tz.concat, # Concatenate tuple iterator\n",
    "        c.map(''.join), # Unpack tuples \n",
    "        tz.frequencies # Get kmer frequencies\n",
    "    )"
   ]
  },
  {
   "cell_type": "code",
   "execution_count": null,
   "metadata": {
    "ExecuteTime": {
     "end_time": "2020-10-09T00:37:51.928418Z",
     "start_time": "2020-10-09T00:37:51.917883Z"
    }
   },
   "outputs": [],
   "source": [
    "counts = get_counts_kmer_streaming(fname, k = 2)"
   ]
  },
  {
   "cell_type": "code",
   "execution_count": null,
   "metadata": {
    "ExecuteTime": {
     "end_time": "2020-10-09T00:37:57.948706Z",
     "start_time": "2020-10-09T00:37:57.935427Z"
    }
   },
   "outputs": [],
   "source": [
    "counts"
   ]
  },
  {
   "cell_type": "code",
   "execution_count": null,
   "metadata": {
    "ExecuteTime": {
     "end_time": "2020-10-09T00:40:33.572980Z",
     "start_time": "2020-10-09T00:40:33.568898Z"
    }
   },
   "outputs": [],
   "source": [
    "alphabet_letters = sorted(list(set(''.join(list(counts.keys())))))"
   ]
  },
  {
   "cell_type": "code",
   "execution_count": null,
   "metadata": {
    "ExecuteTime": {
     "end_time": "2020-10-09T00:40:33.993176Z",
     "start_time": "2020-10-09T00:40:33.991049Z"
    }
   },
   "outputs": [],
   "source": [
    "n_letters = len(alphabet_letters)"
   ]
  },
  {
   "cell_type": "code",
   "execution_count": null,
   "metadata": {
    "ExecuteTime": {
     "end_time": "2020-10-09T00:40:34.422575Z",
     "start_time": "2020-10-09T00:40:34.419959Z"
    }
   },
   "outputs": [],
   "source": [
    "# Get total counts\n",
    "total_counts = sum(counts.values())"
   ]
  },
  {
   "cell_type": "code",
   "execution_count": null,
   "metadata": {
    "ExecuteTime": {
     "end_time": "2020-10-09T00:40:34.758139Z",
     "start_time": "2020-10-09T00:40:34.755306Z"
    }
   },
   "outputs": [],
   "source": [
    "total_counts"
   ]
  },
  {
   "cell_type": "code",
   "execution_count": null,
   "metadata": {
    "ExecuteTime": {
     "end_time": "2020-10-09T00:40:53.356129Z",
     "start_time": "2020-10-09T00:40:53.352181Z"
    }
   },
   "outputs": [],
   "source": [
    "# Sort freqs by alphabetical order \n",
    "freqs = sorted(counts.items(), key = lambda x: x[0])"
   ]
  },
  {
   "cell_type": "code",
   "execution_count": null,
   "metadata": {
    "ExecuteTime": {
     "end_time": "2020-10-09T00:40:54.074003Z",
     "start_time": "2020-10-09T00:40:54.070285Z"
    }
   },
   "outputs": [],
   "source": [
    "#counts"
   ]
  },
  {
   "cell_type": "code",
   "execution_count": null,
   "metadata": {
    "ExecuteTime": {
     "end_time": "2020-10-09T00:40:54.348673Z",
     "start_time": "2020-10-09T00:40:54.344145Z"
    }
   },
   "outputs": [],
   "source": [
    "freqs[:10]"
   ]
  },
  {
   "cell_type": "code",
   "execution_count": null,
   "metadata": {
    "ExecuteTime": {
     "end_time": "2020-10-09T00:40:57.182744Z",
     "start_time": "2020-10-09T00:40:57.175482Z"
    },
    "scrolled": true
   },
   "outputs": [],
   "source": [
    "alphabet_dict = dict(zip(alphabet_letters, np.arange(n_letters)))\n",
    "\n",
    "alphabet_dict"
   ]
  },
  {
   "cell_type": "code",
   "execution_count": null,
   "metadata": {
    "ExecuteTime": {
     "end_time": "2020-10-09T00:40:58.258593Z",
     "start_time": "2020-10-09T00:40:58.254640Z"
    }
   },
   "outputs": [],
   "source": [
    "bigram_pairs = list(it.product(alphabet_letters, alphabet_letters))"
   ]
  },
  {
   "cell_type": "code",
   "execution_count": null,
   "metadata": {
    "ExecuteTime": {
     "end_time": "2020-10-09T00:40:58.749976Z",
     "start_time": "2020-10-09T00:40:58.746159Z"
    }
   },
   "outputs": [],
   "source": [
    "bigram_pairs[0]<"
   ]
  },
  {
   "cell_type": "code",
   "execution_count": null,
   "metadata": {
    "ExecuteTime": {
     "end_time": "2020-10-09T00:40:59.495801Z",
     "start_time": "2020-10-09T00:40:59.491467Z"
    }
   },
   "outputs": [],
   "source": [
    "position_dict = {\n",
    "    (str(i + j)): (alphabet_dict[i], alphabet_dict[j]) for (i,j) in bigram_pairs\n",
    "}"
   ]
  },
  {
   "cell_type": "code",
   "execution_count": null,
   "metadata": {
    "ExecuteTime": {
     "end_time": "2020-10-09T00:41:01.193975Z",
     "start_time": "2020-10-09T00:41:01.190638Z"
    }
   },
   "outputs": [],
   "source": [
    "position_dict[('aa')]"
   ]
  },
  {
   "cell_type": "code",
   "execution_count": null,
   "metadata": {
    "ExecuteTime": {
     "end_time": "2020-10-09T00:41:01.833499Z",
     "start_time": "2020-10-09T00:41:01.828368Z"
    }
   },
   "outputs": [],
   "source": [
    "position_dict[('ie')]"
   ]
  },
  {
   "cell_type": "code",
   "execution_count": null,
   "metadata": {
    "ExecuteTime": {
     "end_time": "2020-10-09T00:41:02.382642Z",
     "start_time": "2020-10-09T00:41:02.377622Z"
    }
   },
   "outputs": [],
   "source": [
    "freqs[:10]"
   ]
  },
  {
   "cell_type": "code",
   "execution_count": null,
   "metadata": {
    "ExecuteTime": {
     "end_time": "2020-10-09T00:41:02.997580Z",
     "start_time": "2020-10-09T00:41:02.992874Z"
    }
   },
   "outputs": [],
   "source": [
    "# Initialize joint distribution matrix \n",
    "joint_distro = np.zeros((n_letters,n_letters))\n",
    "\n",
    "for bigram, counts in freqs: \n",
    "    \n",
    "    # Get indices for given bigram\n",
    "    index = position_dict[bigram]\n",
    "    \n",
    "    # Set counts in array \n",
    "    joint_distro[index] = counts"
   ]
  },
  {
   "cell_type": "code",
   "execution_count": null,
   "metadata": {
    "ExecuteTime": {
     "end_time": "2020-10-09T00:41:03.895006Z",
     "start_time": "2020-10-09T00:41:03.891341Z"
    }
   },
   "outputs": [],
   "source": [
    "joint_distro = joint_distro / total_counts"
   ]
  },
  {
   "cell_type": "code",
   "execution_count": null,
   "metadata": {
    "ExecuteTime": {
     "end_time": "2020-10-09T00:41:04.550476Z",
     "start_time": "2020-10-09T00:41:04.545021Z"
    }
   },
   "outputs": [],
   "source": [
    "# Double check normalization condition \n",
    "joint_distro.sum()"
   ]
  },
  {
   "cell_type": "code",
   "execution_count": null,
   "metadata": {
    "ExecuteTime": {
     "end_time": "2020-10-09T00:41:05.222569Z",
     "start_time": "2020-10-09T00:41:05.217311Z"
    }
   },
   "outputs": [],
   "source": [
    "len(alphabet_letters)"
   ]
  },
  {
   "cell_type": "code",
   "execution_count": null,
   "metadata": {
    "ExecuteTime": {
     "end_time": "2020-10-09T00:41:14.356969Z",
     "start_time": "2020-10-09T00:41:14.351937Z"
    }
   },
   "outputs": [],
   "source": [
    "df_joint= pd.DataFrame(\n",
    "    joint_distro, \n",
    "    index = pd.Index(list(alphabet_letters), name = 'first letter'),\n",
    "    columns = pd.Index(list(alphabet_letters), name = 'second letter')\n",
    ")"
   ]
  },
  {
   "cell_type": "code",
   "execution_count": null,
   "metadata": {
    "ExecuteTime": {
     "end_time": "2020-10-09T00:41:15.070737Z",
     "start_time": "2020-10-09T00:41:15.037761Z"
    }
   },
   "outputs": [],
   "source": [
    "# Take a look \n",
    "df_joint"
   ]
  },
  {
   "cell_type": "markdown",
   "metadata": {},
   "source": [
    "Let's drop columns and rows with nonzero values. "
   ]
  },
  {
   "cell_type": "code",
   "execution_count": null,
   "metadata": {
    "ExecuteTime": {
     "end_time": "2020-10-09T00:41:16.392329Z",
     "start_time": "2020-10-09T00:41:16.370500Z"
    }
   },
   "outputs": [],
   "source": [
    "(df_joint != 0 ).any(axis  = 0)"
   ]
  },
  {
   "cell_type": "code",
   "execution_count": null,
   "metadata": {
    "ExecuteTime": {
     "end_time": "2020-10-09T00:41:17.075282Z",
     "start_time": "2020-10-09T00:41:17.066549Z"
    }
   },
   "outputs": [],
   "source": [
    "(df_joint != 0 ).any(axis  = 1)"
   ]
  },
  {
   "cell_type": "code",
   "execution_count": null,
   "metadata": {
    "ExecuteTime": {
     "end_time": "2020-10-09T00:41:18.141642Z",
     "start_time": "2020-10-09T00:41:18.135365Z"
    }
   },
   "outputs": [],
   "source": [
    "col_selector = (df_joint != 0).any(axis  = 0)\n",
    "row_selector = (df_joint != 0).any(axis  = 1)"
   ]
  },
  {
   "cell_type": "code",
   "execution_count": null,
   "metadata": {
    "ExecuteTime": {
     "end_time": "2020-10-09T00:41:18.627748Z",
     "start_time": "2020-10-09T00:41:18.623270Z"
    }
   },
   "outputs": [],
   "source": [
    "row_selector"
   ]
  },
  {
   "cell_type": "code",
   "execution_count": null,
   "metadata": {
    "ExecuteTime": {
     "end_time": "2020-10-09T00:41:19.265080Z",
     "start_time": "2020-10-09T00:41:19.259866Z"
    }
   },
   "outputs": [],
   "source": [
    "df_sel = df_joint.loc[row_selector, col_selector]"
   ]
  },
  {
   "cell_type": "code",
   "execution_count": null,
   "metadata": {
    "ExecuteTime": {
     "end_time": "2020-10-09T00:41:19.732438Z",
     "start_time": "2020-10-09T00:41:19.726830Z"
    }
   },
   "outputs": [],
   "source": [
    "df_melt = df_sel.unstack().reset_index().rename(columns = {0 : 'P(x,y)'})"
   ]
  },
  {
   "cell_type": "code",
   "execution_count": null,
   "metadata": {
    "ExecuteTime": {
     "end_time": "2020-10-09T00:41:23.542332Z",
     "start_time": "2020-10-09T00:41:21.261262Z"
    }
   },
   "outputs": [],
   "source": [
    "import hvplot.pandas"
   ]
  },
  {
   "cell_type": "code",
   "execution_count": null,
   "metadata": {
    "ExecuteTime": {
     "end_time": "2020-10-09T00:41:23.621557Z",
     "start_time": "2020-10-09T00:41:23.614326Z"
    }
   },
   "outputs": [],
   "source": [
    "df_melt.head()"
   ]
  },
  {
   "cell_type": "code",
   "execution_count": null,
   "metadata": {
    "ExecuteTime": {
     "end_time": "2020-10-09T00:41:24.851224Z",
     "start_time": "2020-10-09T00:41:24.365125Z"
    }
   },
   "outputs": [],
   "source": [
    "hv.extension('bokeh')\n",
    "\n",
    "df_melt.hvplot.heatmap(\n",
    "    x = 'first letter',\n",
    "    y = 'second letter', \n",
    "    C = 'P(x,y)',\n",
    "    height = 500,\n",
    "    width = 600, \n",
    "    cmap = 'viridis', \n",
    "    title = 'Joint distribution P(x,y)'\n",
    ")"
   ]
  },
  {
   "cell_type": "markdown",
   "metadata": {},
   "source": [
    "With the joint distribution in place, we can calculate the entropy of the letters in english."
   ]
  },
  {
   "cell_type": "code",
   "execution_count": null,
   "metadata": {
    "ExecuteTime": {
     "end_time": "2020-10-09T00:41:32.758964Z",
     "start_time": "2020-10-09T00:41:32.755868Z"
    }
   },
   "outputs": [],
   "source": [
    "#Now let's compute the mutual information between the first and second letters.\n",
    "\n",
    "p_x = df_sel.values.sum(axis = 1)\n",
    "p_y = df_sel.values.sum(axis = 0)"
   ]
  },
  {
   "cell_type": "code",
   "execution_count": null,
   "metadata": {
    "ExecuteTime": {
     "end_time": "2020-10-09T00:42:10.129563Z",
     "start_time": "2020-10-09T00:42:10.123832Z"
    }
   },
   "outputs": [],
   "source": [
    "entropy(p_x)"
   ]
  },
  {
   "cell_type": "markdown",
   "metadata": {},
   "source": [
    "This is indeed what's reported ([see F1 in this post](https://cs.stanford.edu/people/eroberts/courses/soco/projects/1999-00/information-theory/entropy_of_english_9.html) and [Shannon's paper on English language redundancy](https://www.princeton.edu/~wbialek/rome/refs/shannon_51.pdf)).\n",
    "\n",
    "This is super interesting, but **how do we know if this entropy is a lot or a little? In other words, what would be a null model for the entropy of a distribution?**.\n"
   ]
  },
  {
   "cell_type": "markdown",
   "metadata": {},
   "source": [
    "###### Proposition : the uniform distribution is the  distribution with maximum entropy"
   ]
  },
  {
   "cell_type": "markdown",
   "metadata": {},
   "source": [
    "Intuititively, we can assert that the above proposition is true because, if a uniform distribution every value is equally likely, and thus whichever value we see sampled, will be \"surprising\". On the other hand, if we think of a very sharp peaked distribution, with the probability mass concentrated about the mean, we would expect that if we sample from the distribution, we would get values close to the mean, and thus, these samples wouldn't be surprising. \n",
    "\n",
    "*Proof:* Let $X$~DUnif(0,n) so that every value $P(x = i) = \\frac{1}{n}$ for $0 \\le i \\le n$ : \n",
    "\n",
    "$$\n",
    "H(X) = \\mathbb{E} \\left[\\mathrm{log_2} \\left( \\frac{1}{p(x)} \\right) \\right] = \\sum_i^n \\frac{1}{n} \\mathrm{log_2} (n) = \\mathrm{log_2 } (n)\n",
    "$$"
   ]
  },
  {
   "cell_type": "markdown",
   "metadata": {},
   "source": [
    "Now, let $Y$ be an r.v. that takes on values $ \\frac{1}{p_1}, ..., \\frac{1}{p_n} $ with probabilities $p_1, .., p_n$. Then $H(Y) = \\sum_i^n p_i \\mathrm {log} (1 / p_i) = \\mathbb{E}[ \\mathrm{log} Y]$ by evaluating $Y$ and using LOTUS. By Jensen's : \n",
    "\n",
    "$$\n",
    "H(Y) = \\mathbb{E}[ \\mathrm{log} Y]  \\le \\mathrm{log} (\\mathbb{E}(Y)) = \\mathrm{log} (n) = H(X)\n",
    "$$"
   ]
  },
  {
   "cell_type": "markdown",
   "metadata": {
    "slideshow": {
     "slide_type": "subslide"
    }
   },
   "source": [
    "Because the entropy of a random variable doesn't depend on its support (i.e. the values the r.v. takes), then $Y$ is unchanges if we change the support from $p_1, .., p_n$ to $a_1, ..., a_n$ . Therefore $X$ which is uniform has entropy at least as large as that of any other r.v. with support on $a_1, a_2, ..., a_n$. "
   ]
  },
  {
   "cell_type": "markdown",
   "metadata": {},
   "source": [
    "#### Redundancy is the ratio that one can compress a random variable"
   ]
  },
  {
   "cell_type": "markdown",
   "metadata": {},
   "source": [
    "With the notion that the uniform distribution is the one distribution with maximum entropy, the information redundancy of a random variable is defined as: \n",
    "\n",
    "$$\n",
    "\\text{redundancy}= 1 - \\frac{H(X) }{H_{ \\text{unif}}} = 1 - \\frac{H(X)}{\\mathrm{log_2} n}\n",
    "$$\n",
    "\n",
    "where $n$ is taken as as the size of the alphabet. "
   ]
  },
  {
   "cell_type": "markdown",
   "metadata": {},
   "source": [
    "We can now compute the information redundancy of english letters !"
   ]
  },
  {
   "cell_type": "code",
   "execution_count": null,
   "metadata": {
    "ExecuteTime": {
     "end_time": "2020-10-09T00:42:29.560101Z",
     "start_time": "2020-10-09T00:42:29.555029Z"
    }
   },
   "outputs": [],
   "source": [
    "entropy(p_x)"
   ]
  },
  {
   "cell_type": "code",
   "execution_count": null,
   "metadata": {
    "ExecuteTime": {
     "end_time": "2020-10-09T00:42:30.099127Z",
     "start_time": "2020-10-09T00:42:30.095699Z"
    }
   },
   "outputs": [],
   "source": [
    "entropy(p_x) / np.log2(26)"
   ]
  },
  {
   "cell_type": "code",
   "execution_count": null,
   "metadata": {
    "ExecuteTime": {
     "end_time": "2020-10-09T00:42:31.009396Z",
     "start_time": "2020-10-09T00:42:31.004085Z"
    }
   },
   "outputs": [],
   "source": [
    "np.log2(26)"
   ]
  },
  {
   "cell_type": "code",
   "execution_count": null,
   "metadata": {
    "ExecuteTime": {
     "end_time": "2020-10-09T00:42:32.404297Z",
     "start_time": "2020-10-09T00:42:32.399387Z"
    }
   },
   "outputs": [],
   "source": [
    "redundancy = 1 - (entropy(p_x)/ np.log2(26))\n",
    "print(f'The redundancy of the english letters is { round(100*redundancy, 2) } %' )"
   ]
  },
  {
   "cell_type": "markdown",
   "metadata": {},
   "source": [
    "Shannon, indeed a different and very ingenious way of calculating the entropy of the letters in english, by estimating the entropy over words. Let's continue with our calculations. "
   ]
  },
  {
   "cell_type": "markdown",
   "metadata": {},
   "source": [
    "Conditional distributions have to follow all of the properties of distributions, that is, have nonnegative probabilities and sum to one. We can thus then get the conditional distributions by normalizing the joint distribution over rows and columns. "
   ]
  },
  {
   "cell_type": "code",
   "execution_count": null,
   "metadata": {
    "ExecuteTime": {
     "end_time": "2020-10-09T00:42:34.561919Z",
     "start_time": "2020-10-09T00:42:34.538005Z"
    }
   },
   "outputs": [],
   "source": [
    "df_sel.head()"
   ]
  },
  {
   "cell_type": "code",
   "execution_count": null,
   "metadata": {
    "ExecuteTime": {
     "end_time": "2020-10-09T00:42:34.770857Z",
     "start_time": "2020-10-09T00:42:34.768232Z"
    }
   },
   "outputs": [],
   "source": [
    "joint_distro_filt = df_sel.values"
   ]
  },
  {
   "cell_type": "code",
   "execution_count": null,
   "metadata": {
    "ExecuteTime": {
     "end_time": "2020-10-09T00:42:35.315724Z",
     "start_time": "2020-10-09T00:42:35.313103Z"
    }
   },
   "outputs": [],
   "source": [
    "# Normalize over rows\n",
    "p_ygx = (joint_distro_filt / p_x.reshape(-1, 1))\n",
    "\n",
    "# Normalize over columns\n",
    "p_xgy = joint_distro_filt / p_y"
   ]
  },
  {
   "cell_type": "code",
   "execution_count": null,
   "metadata": {
    "ExecuteTime": {
     "end_time": "2020-10-09T00:42:35.591617Z",
     "start_time": "2020-10-09T00:42:35.585690Z"
    }
   },
   "outputs": [],
   "source": [
    "df_xgy = df_sel.div(df_sel.sum(axis=0), axis = 1)\n",
    "\n",
    "df_ygx = df_sel.div(df_sel.sum(axis=1), axis = 0)"
   ]
  },
  {
   "cell_type": "code",
   "execution_count": null,
   "metadata": {
    "ExecuteTime": {
     "end_time": "2020-10-09T00:42:35.862660Z",
     "start_time": "2020-10-09T00:42:35.858769Z"
    }
   },
   "outputs": [],
   "source": [
    "# Check that both methods match\n",
    "np.all(df_xgy.values ==p_xgy)"
   ]
  },
  {
   "cell_type": "code",
   "execution_count": null,
   "metadata": {
    "ExecuteTime": {
     "end_time": "2020-10-09T00:42:36.088611Z",
     "start_time": "2020-10-09T00:42:36.084422Z"
    }
   },
   "outputs": [],
   "source": [
    "# Check that conditional distributions sum to 1\n",
    "p_xgy.sum(axis = 0) # over columns\n",
    "p_ygx.sum(axis = 1) # over rows"
   ]
  },
  {
   "cell_type": "markdown",
   "metadata": {},
   "source": [
    "Now we need a clever way to compute the conditional entropy from our array directly. "
   ]
  },
  {
   "cell_type": "code",
   "execution_count": 58,
   "metadata": {
    "ExecuteTime": {
     "end_time": "2020-10-13T01:30:42.186356Z",
     "start_time": "2020-10-13T01:30:42.181436Z"
    }
   },
   "outputs": [],
   "source": [
    "def element_wise_information(px):\n",
    "    \"\"\"\n",
    "    Returns a numpy array with element wise information calculated as -log_2(p_i).\n",
    "    This quantity is also know as information or self-information:\n",
    "    https://en.wikipedia.org/wiki/Information_content\n",
    "    \n",
    "    Params\n",
    "    ------\n",
    "    px (np.array)\n",
    "        Array of individual probabilities, i.e. a probability vector or distribution.\n",
    "    \n",
    "    Returns\n",
    "    -------\n",
    "    information (np.array)\n",
    "        Array of element-wise information content.\n",
    "    \"\"\"\n",
    "    if isinstance(px, list):\n",
    "        px = np.array(px)\n",
    "        \n",
    "    # Make a copy of input array\n",
    "    information_content = px.copy()\n",
    "    \n",
    "    # Get indices of nonzero probability values\n",
    "    nz = np.nonzero(information_content)\n",
    "    \n",
    "    # Compute -log_2(p_i) element-wise\n",
    "    information_content[nz] *= - np.log2(information_content[nz])\n",
    "    \n",
    "    return information_content"
   ]
  },
  {
   "cell_type": "code",
   "execution_count": null,
   "metadata": {
    "ExecuteTime": {
     "end_time": "2020-10-09T00:43:15.831503Z",
     "start_time": "2020-10-09T00:43:15.827966Z"
    }
   },
   "outputs": [],
   "source": [
    "h_x = entropy(p_x)"
   ]
  },
  {
   "cell_type": "code",
   "execution_count": null,
   "metadata": {
    "ExecuteTime": {
     "end_time": "2020-10-09T00:43:16.216163Z",
     "start_time": "2020-10-09T00:43:16.212646Z"
    }
   },
   "outputs": [],
   "source": [
    "h_xgy = np.sum(p_y * element_wise_information(p_xgy))"
   ]
  },
  {
   "cell_type": "code",
   "execution_count": null,
   "metadata": {
    "ExecuteTime": {
     "end_time": "2020-10-09T00:43:16.673258Z",
     "start_time": "2020-10-09T00:43:16.669448Z"
    }
   },
   "outputs": [],
   "source": [
    "h_xgy"
   ]
  },
  {
   "cell_type": "code",
   "execution_count": null,
   "metadata": {
    "ExecuteTime": {
     "end_time": "2020-10-09T00:43:17.480033Z",
     "start_time": "2020-10-09T00:43:17.476551Z"
    }
   },
   "outputs": [],
   "source": [
    "# Mutual information, finally!!\n",
    "mi = entropy(p_x) - h_xgy"
   ]
  },
  {
   "cell_type": "code",
   "execution_count": null,
   "metadata": {
    "ExecuteTime": {
     "end_time": "2020-10-09T00:43:17.899044Z",
     "start_time": "2020-10-09T00:43:17.896125Z"
    }
   },
   "outputs": [],
   "source": [
    "mi"
   ]
  },
  {
   "cell_type": "code",
   "execution_count": null,
   "metadata": {
    "ExecuteTime": {
     "end_time": "2020-10-09T00:43:18.213663Z",
     "start_time": "2020-10-09T00:43:18.211199Z"
    }
   },
   "outputs": [],
   "source": [
    "h_y = entropy(p_y)"
   ]
  },
  {
   "cell_type": "code",
   "execution_count": null,
   "metadata": {
    "ExecuteTime": {
     "end_time": "2020-10-09T00:43:18.913187Z",
     "start_time": "2020-10-09T00:43:18.909596Z"
    }
   },
   "outputs": [],
   "source": [
    "# Joint entropy \n",
    "h_xy = h_x  + h_y - mi "
   ]
  },
  {
   "cell_type": "code",
   "execution_count": null,
   "metadata": {
    "ExecuteTime": {
     "end_time": "2020-10-09T00:43:19.452333Z",
     "start_time": "2020-10-09T00:43:19.449393Z"
    }
   },
   "outputs": [],
   "source": [
    "h_xy"
   ]
  },
  {
   "cell_type": "code",
   "execution_count": null,
   "metadata": {
    "ExecuteTime": {
     "end_time": "2020-10-09T00:43:21.726273Z",
     "start_time": "2020-10-09T00:43:21.721587Z"
    }
   },
   "outputs": [],
   "source": [
    "redundancy_bigram = 1 - h_xy / np.log2(27**2)\n",
    "\n",
    "print(f'The information redundancy of bigrams is {round(redundancy_bigram*100, 2) } %')"
   ]
  },
  {
   "cell_type": "markdown",
   "metadata": {},
   "source": [
    "### Brief on logic gates "
   ]
  },
  {
   "cell_type": "markdown",
   "metadata": {},
   "source": [
    "Let's start by making a binary sequence. "
   ]
  },
  {
   "cell_type": "code",
   "execution_count": 1,
   "metadata": {
    "ExecuteTime": {
     "end_time": "2020-10-13T01:09:39.735418Z",
     "start_time": "2020-10-13T01:09:39.732716Z"
    }
   },
   "outputs": [],
   "source": [
    "import numpy as np \n",
    "import itertools as it"
   ]
  },
  {
   "cell_type": "code",
   "execution_count": 2,
   "metadata": {
    "ExecuteTime": {
     "end_time": "2020-10-13T01:09:42.153955Z",
     "start_time": "2020-10-13T01:09:42.150974Z"
    }
   },
   "outputs": [],
   "source": [
    "x = (0,1)"
   ]
  },
  {
   "cell_type": "code",
   "execution_count": 3,
   "metadata": {
    "ExecuteTime": {
     "end_time": "2020-10-13T01:09:44.008261Z",
     "start_time": "2020-10-13T01:09:44.000249Z"
    }
   },
   "outputs": [
    {
     "data": {
      "text/plain": [
       "(0, 1)"
      ]
     },
     "execution_count": 3,
     "metadata": {},
     "output_type": "execute_result"
    }
   ],
   "source": [
    "x"
   ]
  },
  {
   "cell_type": "markdown",
   "metadata": {},
   "source": [
    "We can get all combinations of 0 and 1 by taking the cartesian product. "
   ]
  },
  {
   "cell_type": "code",
   "execution_count": 6,
   "metadata": {
    "ExecuteTime": {
     "end_time": "2020-10-13T01:10:49.114807Z",
     "start_time": "2020-10-13T01:10:49.111249Z"
    }
   },
   "outputs": [],
   "source": [
    "xy = np.array(list(it.product(x,x)))"
   ]
  },
  {
   "cell_type": "code",
   "execution_count": 12,
   "metadata": {
    "ExecuteTime": {
     "end_time": "2020-10-13T01:13:06.589819Z",
     "start_time": "2020-10-13T01:13:06.586239Z"
    }
   },
   "outputs": [
    {
     "data": {
      "text/plain": [
       "array([[0, 0],\n",
       "       [0, 1],\n",
       "       [1, 0],\n",
       "       [1, 1]])"
      ]
     },
     "execution_count": 12,
     "metadata": {},
     "output_type": "execute_result"
    }
   ],
   "source": [
    "xy"
   ]
  },
  {
   "cell_type": "markdown",
   "metadata": {},
   "source": [
    "Now let's define a new vector storing all of the values evaluating the function OR(X,Y)."
   ]
  },
  {
   "cell_type": "code",
   "execution_count": 16,
   "metadata": {
    "ExecuteTime": {
     "end_time": "2020-10-13T01:13:46.930711Z",
     "start_time": "2020-10-13T01:13:46.927210Z"
    }
   },
   "outputs": [],
   "source": [
    "# Initialize array\n",
    "or_expression = np.zeros(xy.shape[0])\n",
    "\n",
    "# Evaluate OR gate\n",
    "for ix in range(xy.shape[0]):\n",
    "    # Unpack each row \n",
    "    x, y = xy[ix]\n",
    "    \n",
    "    # Evaluate x OR y\n",
    "    or_expression[ix] = x | y"
   ]
  },
  {
   "cell_type": "markdown",
   "metadata": {},
   "source": [
    "The expressions for AND and XOR are `&` and `^` respectively. You can read about how to implement more logic functions [here](https://www.journaldev.com/42242/logic-gates-in-python)."
   ]
  },
  {
   "cell_type": "code",
   "execution_count": 18,
   "metadata": {
    "ExecuteTime": {
     "end_time": "2020-10-13T01:13:58.510949Z",
     "start_time": "2020-10-13T01:13:58.506946Z"
    }
   },
   "outputs": [
    {
     "data": {
      "text/plain": [
       "array([0., 1., 1., 1.])"
      ]
     },
     "execution_count": 18,
     "metadata": {},
     "output_type": "execute_result"
    }
   ],
   "source": [
    "# Check it out \n",
    "or_expression"
   ]
  },
  {
   "cell_type": "code",
   "execution_count": 19,
   "metadata": {
    "ExecuteTime": {
     "end_time": "2020-10-13T01:13:58.715580Z",
     "start_time": "2020-10-13T01:13:58.711339Z"
    }
   },
   "outputs": [
    {
     "data": {
      "text/plain": [
       "(4, 1)"
      ]
     },
     "execution_count": 19,
     "metadata": {},
     "output_type": "execute_result"
    }
   ],
   "source": [
    "or_expression.reshape(-1,1).shape"
   ]
  },
  {
   "cell_type": "code",
   "execution_count": 20,
   "metadata": {
    "ExecuteTime": {
     "end_time": "2020-10-13T01:13:59.410516Z",
     "start_time": "2020-10-13T01:13:59.407184Z"
    }
   },
   "outputs": [],
   "source": [
    "or_truth_table = np.hstack([xy, or_expression.reshape(-1, 1)]).astype(int)"
   ]
  },
  {
   "cell_type": "code",
   "execution_count": 21,
   "metadata": {
    "ExecuteTime": {
     "end_time": "2020-10-13T01:14:00.551834Z",
     "start_time": "2020-10-13T01:14:00.546830Z"
    }
   },
   "outputs": [
    {
     "data": {
      "text/plain": [
       "array([[0, 0, 0],\n",
       "       [0, 1, 1],\n",
       "       [1, 0, 1],\n",
       "       [1, 1, 1]])"
      ]
     },
     "execution_count": 21,
     "metadata": {},
     "output_type": "execute_result"
    }
   ],
   "source": [
    "or_truth_table"
   ]
  },
  {
   "cell_type": "code",
   "execution_count": 24,
   "metadata": {
    "ExecuteTime": {
     "end_time": "2020-10-13T01:14:15.740776Z",
     "start_time": "2020-10-13T01:14:15.413030Z"
    }
   },
   "outputs": [],
   "source": [
    "import pandas as pd"
   ]
  },
  {
   "cell_type": "code",
   "execution_count": 25,
   "metadata": {
    "ExecuteTime": {
     "end_time": "2020-10-13T01:14:15.754941Z",
     "start_time": "2020-10-13T01:14:15.752519Z"
    }
   },
   "outputs": [],
   "source": [
    "or_df = pd.DataFrame(\n",
    "    or_truth_table, \n",
    "    columns = ['x', 'y', 'z (OR)']\n",
    ")"
   ]
  },
  {
   "cell_type": "code",
   "execution_count": 26,
   "metadata": {
    "ExecuteTime": {
     "end_time": "2020-10-13T01:14:16.160141Z",
     "start_time": "2020-10-13T01:14:16.152461Z"
    }
   },
   "outputs": [
    {
     "data": {
      "text/html": [
       "<div>\n",
       "<style scoped>\n",
       "    .dataframe tbody tr th:only-of-type {\n",
       "        vertical-align: middle;\n",
       "    }\n",
       "\n",
       "    .dataframe tbody tr th {\n",
       "        vertical-align: top;\n",
       "    }\n",
       "\n",
       "    .dataframe thead th {\n",
       "        text-align: right;\n",
       "    }\n",
       "</style>\n",
       "<table border=\"1\" class=\"dataframe\">\n",
       "  <thead>\n",
       "    <tr style=\"text-align: right;\">\n",
       "      <th></th>\n",
       "      <th>x</th>\n",
       "      <th>y</th>\n",
       "      <th>z (OR)</th>\n",
       "    </tr>\n",
       "  </thead>\n",
       "  <tbody>\n",
       "    <tr>\n",
       "      <th>0</th>\n",
       "      <td>0</td>\n",
       "      <td>0</td>\n",
       "      <td>0</td>\n",
       "    </tr>\n",
       "    <tr>\n",
       "      <th>1</th>\n",
       "      <td>0</td>\n",
       "      <td>1</td>\n",
       "      <td>1</td>\n",
       "    </tr>\n",
       "    <tr>\n",
       "      <th>2</th>\n",
       "      <td>1</td>\n",
       "      <td>0</td>\n",
       "      <td>1</td>\n",
       "    </tr>\n",
       "    <tr>\n",
       "      <th>3</th>\n",
       "      <td>1</td>\n",
       "      <td>1</td>\n",
       "      <td>1</td>\n",
       "    </tr>\n",
       "  </tbody>\n",
       "</table>\n",
       "</div>"
      ],
      "text/plain": [
       "   x  y  z (OR)\n",
       "0  0  0       0\n",
       "1  0  1       1\n",
       "2  1  0       1\n",
       "3  1  1       1"
      ]
     },
     "execution_count": 26,
     "metadata": {},
     "output_type": "execute_result"
    }
   ],
   "source": [
    "or_df"
   ]
  },
  {
   "cell_type": "markdown",
   "metadata": {},
   "source": [
    "Let's start by getting the joint distribution $P(x,z)$."
   ]
  },
  {
   "cell_type": "code",
   "execution_count": 27,
   "metadata": {
    "ExecuteTime": {
     "end_time": "2020-10-13T01:14:57.131774Z",
     "start_time": "2020-10-13T01:14:57.129549Z"
    }
   },
   "outputs": [],
   "source": [
    "contingency_table = np.zeros((2,2))"
   ]
  },
  {
   "cell_type": "code",
   "execution_count": 29,
   "metadata": {
    "ExecuteTime": {
     "end_time": "2020-10-13T01:15:42.200987Z",
     "start_time": "2020-10-13T01:15:42.198447Z"
    }
   },
   "outputs": [],
   "source": [
    "x = or_df['x'].values\n",
    "z = or_df['z (OR)'].values"
   ]
  },
  {
   "cell_type": "code",
   "execution_count": 30,
   "metadata": {
    "ExecuteTime": {
     "end_time": "2020-10-13T01:15:47.708682Z",
     "start_time": "2020-10-13T01:15:47.705862Z"
    }
   },
   "outputs": [
    {
     "data": {
      "text/plain": [
       "array([0, 0, 1, 1])"
      ]
     },
     "execution_count": 30,
     "metadata": {},
     "output_type": "execute_result"
    }
   ],
   "source": [
    "x"
   ]
  },
  {
   "cell_type": "code",
   "execution_count": 31,
   "metadata": {
    "ExecuteTime": {
     "end_time": "2020-10-13T01:15:49.494687Z",
     "start_time": "2020-10-13T01:15:49.489903Z"
    }
   },
   "outputs": [
    {
     "data": {
      "text/plain": [
       "array([0, 1, 1, 1])"
      ]
     },
     "execution_count": 31,
     "metadata": {},
     "output_type": "execute_result"
    }
   ],
   "source": [
    "z"
   ]
  },
  {
   "cell_type": "code",
   "execution_count": 33,
   "metadata": {
    "ExecuteTime": {
     "end_time": "2020-10-13T01:16:42.014770Z",
     "start_time": "2020-10-13T01:16:42.008895Z"
    }
   },
   "outputs": [
    {
     "data": {
      "text/html": [
       "<div>\n",
       "<style scoped>\n",
       "    .dataframe tbody tr th:only-of-type {\n",
       "        vertical-align: middle;\n",
       "    }\n",
       "\n",
       "    .dataframe tbody tr th {\n",
       "        vertical-align: top;\n",
       "    }\n",
       "\n",
       "    .dataframe thead th {\n",
       "        text-align: right;\n",
       "    }\n",
       "</style>\n",
       "<table border=\"1\" class=\"dataframe\">\n",
       "  <thead>\n",
       "    <tr style=\"text-align: right;\">\n",
       "      <th></th>\n",
       "      <th>x</th>\n",
       "      <th>y</th>\n",
       "      <th>z (OR)</th>\n",
       "    </tr>\n",
       "  </thead>\n",
       "  <tbody>\n",
       "    <tr>\n",
       "      <th>0</th>\n",
       "      <td>0</td>\n",
       "      <td>0</td>\n",
       "      <td>0</td>\n",
       "    </tr>\n",
       "    <tr>\n",
       "      <th>1</th>\n",
       "      <td>0</td>\n",
       "      <td>1</td>\n",
       "      <td>1</td>\n",
       "    </tr>\n",
       "    <tr>\n",
       "      <th>2</th>\n",
       "      <td>1</td>\n",
       "      <td>0</td>\n",
       "      <td>1</td>\n",
       "    </tr>\n",
       "    <tr>\n",
       "      <th>3</th>\n",
       "      <td>1</td>\n",
       "      <td>1</td>\n",
       "      <td>1</td>\n",
       "    </tr>\n",
       "  </tbody>\n",
       "</table>\n",
       "</div>"
      ],
      "text/plain": [
       "   x  y  z (OR)\n",
       "0  0  0       0\n",
       "1  0  1       1\n",
       "2  1  0       1\n",
       "3  1  1       1"
      ]
     },
     "execution_count": 33,
     "metadata": {},
     "output_type": "execute_result"
    }
   ],
   "source": [
    "or_df"
   ]
  },
  {
   "cell_type": "code",
   "execution_count": 32,
   "metadata": {
    "ExecuteTime": {
     "end_time": "2020-10-13T01:16:34.071651Z",
     "start_time": "2020-10-13T01:16:34.068385Z"
    }
   },
   "outputs": [
    {
     "data": {
      "text/plain": [
       "array([ True, False, False, False])"
      ]
     },
     "execution_count": 32,
     "metadata": {},
     "output_type": "execute_result"
    }
   ],
   "source": [
    "(x == 0) & (z == 0)"
   ]
  },
  {
   "cell_type": "code",
   "execution_count": 34,
   "metadata": {
    "ExecuteTime": {
     "end_time": "2020-10-13T01:17:19.492080Z",
     "start_time": "2020-10-13T01:17:19.488527Z"
    }
   },
   "outputs": [
    {
     "data": {
      "text/plain": [
       "1"
      ]
     },
     "execution_count": 34,
     "metadata": {},
     "output_type": "execute_result"
    }
   ],
   "source": [
    "np.sum((x == 0) & (z == 0))"
   ]
  },
  {
   "cell_type": "code",
   "execution_count": 35,
   "metadata": {
    "ExecuteTime": {
     "end_time": "2020-10-13T01:17:37.587455Z",
     "start_time": "2020-10-13T01:17:37.583195Z"
    }
   },
   "outputs": [
    {
     "data": {
      "text/plain": [
       "array([[0., 0.],\n",
       "       [0., 0.]])"
      ]
     },
     "execution_count": 35,
     "metadata": {},
     "output_type": "execute_result"
    }
   ],
   "source": [
    "contingency_table"
   ]
  },
  {
   "cell_type": "code",
   "execution_count": 36,
   "metadata": {
    "ExecuteTime": {
     "end_time": "2020-10-13T01:18:08.614813Z",
     "start_time": "2020-10-13T01:18:08.611901Z"
    }
   },
   "outputs": [],
   "source": [
    "for i in [0,1]:\n",
    "    for j in [0,1]:\n",
    "        contingency_table[i,j] = np.sum((x == i) & (z == j))"
   ]
  },
  {
   "cell_type": "code",
   "execution_count": 37,
   "metadata": {
    "ExecuteTime": {
     "end_time": "2020-10-13T01:18:08.899396Z",
     "start_time": "2020-10-13T01:18:08.896113Z"
    }
   },
   "outputs": [
    {
     "data": {
      "text/plain": [
       "array([[1., 1.],\n",
       "       [0., 2.]])"
      ]
     },
     "execution_count": 37,
     "metadata": {},
     "output_type": "execute_result"
    }
   ],
   "source": [
    "contingency_table"
   ]
  },
  {
   "cell_type": "code",
   "execution_count": null,
   "metadata": {},
   "outputs": [],
   "source": [
    "contingency_table = np.zeros((2,2))"
   ]
  },
  {
   "cell_type": "code",
   "execution_count": null,
   "metadata": {
    "ExecuteTime": {
     "end_time": "2020-10-04T00:26:05.956913Z",
     "start_time": "2020-10-04T00:26:05.952650Z"
    }
   },
   "outputs": [],
   "source": [
    "for i,j in zip(x,z):\n",
    "    contingency_table[i,j] +=1"
   ]
  },
  {
   "cell_type": "code",
   "execution_count": 40,
   "metadata": {
    "ExecuteTime": {
     "end_time": "2020-10-13T01:19:12.290304Z",
     "start_time": "2020-10-13T01:19:12.286130Z"
    }
   },
   "outputs": [
    {
     "data": {
      "text/plain": [
       "array([[0.25, 0.25],\n",
       "       [0.  , 0.5 ]])"
      ]
     },
     "execution_count": 40,
     "metadata": {},
     "output_type": "execute_result"
    }
   ],
   "source": [
    "contingency_table / 4"
   ]
  },
  {
   "cell_type": "code",
   "execution_count": 41,
   "metadata": {
    "ExecuteTime": {
     "end_time": "2020-10-13T01:19:17.089774Z",
     "start_time": "2020-10-13T01:19:17.087623Z"
    }
   },
   "outputs": [],
   "source": [
    "p_xz = contingency_table/ contingency_table.sum()"
   ]
  },
  {
   "cell_type": "code",
   "execution_count": 42,
   "metadata": {
    "ExecuteTime": {
     "end_time": "2020-10-13T01:19:21.950617Z",
     "start_time": "2020-10-13T01:19:21.946673Z"
    }
   },
   "outputs": [
    {
     "data": {
      "text/plain": [
       "array([[0.25, 0.25],\n",
       "       [0.  , 0.5 ]])"
      ]
     },
     "execution_count": 42,
     "metadata": {},
     "output_type": "execute_result"
    }
   ],
   "source": [
    "p_xz"
   ]
  },
  {
   "cell_type": "code",
   "execution_count": 43,
   "metadata": {
    "ExecuteTime": {
     "end_time": "2020-10-13T01:19:25.872823Z",
     "start_time": "2020-10-13T01:19:25.869388Z"
    }
   },
   "outputs": [],
   "source": [
    "df_joint = pd.DataFrame(\n",
    "    p_xz, \n",
    "    index = pd.Index(['x = 0', 'x = 1']),\n",
    "    columns = pd.Index(['z = 0', 'z = 1'])\n",
    ")"
   ]
  },
  {
   "cell_type": "code",
   "execution_count": 44,
   "metadata": {
    "ExecuteTime": {
     "end_time": "2020-10-13T01:19:27.152122Z",
     "start_time": "2020-10-13T01:19:27.146011Z"
    }
   },
   "outputs": [
    {
     "data": {
      "text/html": [
       "<div>\n",
       "<style scoped>\n",
       "    .dataframe tbody tr th:only-of-type {\n",
       "        vertical-align: middle;\n",
       "    }\n",
       "\n",
       "    .dataframe tbody tr th {\n",
       "        vertical-align: top;\n",
       "    }\n",
       "\n",
       "    .dataframe thead th {\n",
       "        text-align: right;\n",
       "    }\n",
       "</style>\n",
       "<table border=\"1\" class=\"dataframe\">\n",
       "  <thead>\n",
       "    <tr style=\"text-align: right;\">\n",
       "      <th></th>\n",
       "      <th>z = 0</th>\n",
       "      <th>z = 1</th>\n",
       "    </tr>\n",
       "  </thead>\n",
       "  <tbody>\n",
       "    <tr>\n",
       "      <th>x = 0</th>\n",
       "      <td>0.25</td>\n",
       "      <td>0.25</td>\n",
       "    </tr>\n",
       "    <tr>\n",
       "      <th>x = 1</th>\n",
       "      <td>0.00</td>\n",
       "      <td>0.50</td>\n",
       "    </tr>\n",
       "  </tbody>\n",
       "</table>\n",
       "</div>"
      ],
      "text/plain": [
       "       z = 0  z = 1\n",
       "x = 0   0.25   0.25\n",
       "x = 1   0.00   0.50"
      ]
     },
     "execution_count": 44,
     "metadata": {},
     "output_type": "execute_result"
    }
   ],
   "source": [
    "df_joint"
   ]
  },
  {
   "cell_type": "code",
   "execution_count": 45,
   "metadata": {
    "ExecuteTime": {
     "end_time": "2020-10-13T01:20:01.487387Z",
     "start_time": "2020-10-13T01:20:01.481398Z"
    }
   },
   "outputs": [
    {
     "data": {
      "text/plain": [
       "z = 0    0.25\n",
       "z = 1    0.75\n",
       "dtype: float64"
      ]
     },
     "execution_count": 45,
     "metadata": {},
     "output_type": "execute_result"
    }
   ],
   "source": [
    "df_joint.sum(axis = 'rows')"
   ]
  },
  {
   "cell_type": "code",
   "execution_count": 46,
   "metadata": {
    "ExecuteTime": {
     "end_time": "2020-10-13T01:20:30.522787Z",
     "start_time": "2020-10-13T01:20:30.517610Z"
    }
   },
   "outputs": [
    {
     "data": {
      "text/plain": [
       "x = 0    0.5\n",
       "x = 1    0.5\n",
       "dtype: float64"
      ]
     },
     "execution_count": 46,
     "metadata": {},
     "output_type": "execute_result"
    }
   ],
   "source": [
    "df_joint.sum(axis = 'columns')"
   ]
  },
  {
   "cell_type": "markdown",
   "metadata": {},
   "source": [
    "$P(X | Z ) = \\frac{P(X, Z)}{P(Z)}$"
   ]
  },
  {
   "cell_type": "code",
   "execution_count": 47,
   "metadata": {
    "ExecuteTime": {
     "end_time": "2020-10-13T01:22:45.291177Z",
     "start_time": "2020-10-13T01:22:45.284843Z"
    }
   },
   "outputs": [
    {
     "data": {
      "text/html": [
       "<div>\n",
       "<style scoped>\n",
       "    .dataframe tbody tr th:only-of-type {\n",
       "        vertical-align: middle;\n",
       "    }\n",
       "\n",
       "    .dataframe tbody tr th {\n",
       "        vertical-align: top;\n",
       "    }\n",
       "\n",
       "    .dataframe thead th {\n",
       "        text-align: right;\n",
       "    }\n",
       "</style>\n",
       "<table border=\"1\" class=\"dataframe\">\n",
       "  <thead>\n",
       "    <tr style=\"text-align: right;\">\n",
       "      <th></th>\n",
       "      <th>z = 0</th>\n",
       "      <th>z = 1</th>\n",
       "    </tr>\n",
       "  </thead>\n",
       "  <tbody>\n",
       "    <tr>\n",
       "      <th>x = 0</th>\n",
       "      <td>0.25</td>\n",
       "      <td>0.25</td>\n",
       "    </tr>\n",
       "    <tr>\n",
       "      <th>x = 1</th>\n",
       "      <td>0.00</td>\n",
       "      <td>0.50</td>\n",
       "    </tr>\n",
       "  </tbody>\n",
       "</table>\n",
       "</div>"
      ],
      "text/plain": [
       "       z = 0  z = 1\n",
       "x = 0   0.25   0.25\n",
       "x = 1   0.00   0.50"
      ]
     },
     "execution_count": 47,
     "metadata": {},
     "output_type": "execute_result"
    }
   ],
   "source": [
    "df_joint"
   ]
  },
  {
   "cell_type": "code",
   "execution_count": 49,
   "metadata": {
    "ExecuteTime": {
     "end_time": "2020-10-13T01:26:10.386856Z",
     "start_time": "2020-10-13T01:26:10.384132Z"
    }
   },
   "outputs": [],
   "source": [
    "p_z = df_joint.sum(axis = 'rows').values"
   ]
  },
  {
   "cell_type": "code",
   "execution_count": 50,
   "metadata": {
    "ExecuteTime": {
     "end_time": "2020-10-13T01:26:12.059251Z",
     "start_time": "2020-10-13T01:26:12.056247Z"
    }
   },
   "outputs": [
    {
     "data": {
      "text/plain": [
       "array([0.25, 0.75])"
      ]
     },
     "execution_count": 50,
     "metadata": {},
     "output_type": "execute_result"
    }
   ],
   "source": [
    "p_z"
   ]
  },
  {
   "cell_type": "code",
   "execution_count": 55,
   "metadata": {
    "ExecuteTime": {
     "end_time": "2020-10-13T01:27:54.332058Z",
     "start_time": "2020-10-13T01:27:54.325872Z"
    }
   },
   "outputs": [
    {
     "data": {
      "text/html": [
       "<div>\n",
       "<style scoped>\n",
       "    .dataframe tbody tr th:only-of-type {\n",
       "        vertical-align: middle;\n",
       "    }\n",
       "\n",
       "    .dataframe tbody tr th {\n",
       "        vertical-align: top;\n",
       "    }\n",
       "\n",
       "    .dataframe thead th {\n",
       "        text-align: right;\n",
       "    }\n",
       "</style>\n",
       "<table border=\"1\" class=\"dataframe\">\n",
       "  <thead>\n",
       "    <tr style=\"text-align: right;\">\n",
       "      <th></th>\n",
       "      <th>z = 0</th>\n",
       "      <th>z = 1</th>\n",
       "    </tr>\n",
       "  </thead>\n",
       "  <tbody>\n",
       "    <tr>\n",
       "      <th>x = 0</th>\n",
       "      <td>0.25</td>\n",
       "      <td>0.25</td>\n",
       "    </tr>\n",
       "    <tr>\n",
       "      <th>x = 1</th>\n",
       "      <td>0.00</td>\n",
       "      <td>0.50</td>\n",
       "    </tr>\n",
       "  </tbody>\n",
       "</table>\n",
       "</div>"
      ],
      "text/plain": [
       "       z = 0  z = 1\n",
       "x = 0   0.25   0.25\n",
       "x = 1   0.00   0.50"
      ]
     },
     "execution_count": 55,
     "metadata": {},
     "output_type": "execute_result"
    }
   ],
   "source": [
    "df_joint"
   ]
  },
  {
   "cell_type": "code",
   "execution_count": 56,
   "metadata": {
    "ExecuteTime": {
     "end_time": "2020-10-13T01:28:01.947449Z",
     "start_time": "2020-10-13T01:28:01.943714Z"
    }
   },
   "outputs": [
    {
     "data": {
      "text/plain": [
       "array([0.25, 0.75])"
      ]
     },
     "execution_count": 56,
     "metadata": {},
     "output_type": "execute_result"
    }
   ],
   "source": [
    "p_z"
   ]
  },
  {
   "cell_type": "markdown",
   "metadata": {},
   "source": [
    "$$\n",
    "H(X) =  - \\sum_i p_i \\mathrm{log_2}{p_i}\n",
    "$$"
   ]
  },
  {
   "cell_type": "code",
   "execution_count": 61,
   "metadata": {
    "ExecuteTime": {
     "end_time": "2020-10-13T01:33:16.216829Z",
     "start_time": "2020-10-13T01:33:16.212836Z"
    }
   },
   "outputs": [
    {
     "data": {
      "text/plain": [
       "array([0.25, 0.75])"
      ]
     },
     "execution_count": 61,
     "metadata": {},
     "output_type": "execute_result"
    }
   ],
   "source": [
    "p_z"
   ]
  },
  {
   "cell_type": "code",
   "execution_count": 64,
   "metadata": {
    "ExecuteTime": {
     "end_time": "2020-10-13T01:34:03.325234Z",
     "start_time": "2020-10-13T01:34:03.320945Z"
    }
   },
   "outputs": [
    {
     "data": {
      "text/plain": [
       "array([-2.       , -0.4150375])"
      ]
     },
     "execution_count": 64,
     "metadata": {},
     "output_type": "execute_result"
    }
   ],
   "source": [
    "log_pz  = np.log2(p_z)\n",
    "log_pz"
   ]
  },
  {
   "cell_type": "code",
   "execution_count": 66,
   "metadata": {
    "ExecuteTime": {
     "end_time": "2020-10-13T01:34:55.113528Z",
     "start_time": "2020-10-13T01:34:55.108616Z"
    }
   },
   "outputs": [
    {
     "data": {
      "text/plain": [
       "0.8112781244591328"
      ]
     },
     "execution_count": 66,
     "metadata": {},
     "output_type": "execute_result"
    }
   ],
   "source": [
    "np.sum( - p_z*log_pz)"
   ]
  },
  {
   "cell_type": "code",
   "execution_count": 67,
   "metadata": {
    "ExecuteTime": {
     "end_time": "2020-10-13T01:35:29.097866Z",
     "start_time": "2020-10-13T01:35:29.095381Z"
    }
   },
   "outputs": [],
   "source": [
    "p_x = np.array([0.8, 0.2, 0])"
   ]
  },
  {
   "cell_type": "code",
   "execution_count": 68,
   "metadata": {
    "ExecuteTime": {
     "end_time": "2020-10-13T01:35:38.394159Z",
     "start_time": "2020-10-13T01:35:38.391080Z"
    }
   },
   "outputs": [],
   "source": [
    "nz = np.nonzero(p_x)"
   ]
  },
  {
   "cell_type": "code",
   "execution_count": 70,
   "metadata": {
    "ExecuteTime": {
     "end_time": "2020-10-13T01:35:49.024200Z",
     "start_time": "2020-10-13T01:35:49.019171Z"
    }
   },
   "outputs": [
    {
     "data": {
      "text/plain": [
       "array([0.8, 0.2])"
      ]
     },
     "execution_count": 70,
     "metadata": {},
     "output_type": "execute_result"
    }
   ],
   "source": [
    "p_x[nz]"
   ]
  },
  {
   "cell_type": "code",
   "execution_count": 71,
   "metadata": {
    "ExecuteTime": {
     "end_time": "2020-10-13T01:36:14.839199Z",
     "start_time": "2020-10-13T01:36:14.836454Z"
    }
   },
   "outputs": [],
   "source": [
    "def entropy(px):\n",
    "    \n",
    "    # Get the nonzero indices \n",
    "    nz = np.nonzero(px)\n",
    "    \n",
    "    entropy = np.sum(- px[nz] * np.log2(px[nz]))\n",
    "    \n",
    "    return entropy "
   ]
  },
  {
   "cell_type": "code",
   "execution_count": 51,
   "metadata": {
    "ExecuteTime": {
     "end_time": "2020-10-13T01:26:37.445954Z",
     "start_time": "2020-10-13T01:26:37.443105Z"
    }
   },
   "outputs": [],
   "source": [
    "# P(X | Z) = P(X,Z) / P(Z)\n",
    "p_xgz = df_joint.values / p_z "
   ]
  },
  {
   "cell_type": "code",
   "execution_count": 72,
   "metadata": {
    "ExecuteTime": {
     "end_time": "2020-10-13T01:37:40.922903Z",
     "start_time": "2020-10-13T01:37:40.919805Z"
    }
   },
   "outputs": [
    {
     "data": {
      "text/plain": [
       "array([[1.        , 0.33333333],\n",
       "       [0.        , 0.66666667]])"
      ]
     },
     "execution_count": 72,
     "metadata": {},
     "output_type": "execute_result"
    }
   ],
   "source": [
    "p_xgz"
   ]
  },
  {
   "cell_type": "code",
   "execution_count": 73,
   "metadata": {
    "ExecuteTime": {
     "end_time": "2020-10-13T01:42:39.194459Z",
     "start_time": "2020-10-13T01:42:39.188065Z"
    }
   },
   "outputs": [
    {
     "data": {
      "text/html": [
       "<div>\n",
       "<style scoped>\n",
       "    .dataframe tbody tr th:only-of-type {\n",
       "        vertical-align: middle;\n",
       "    }\n",
       "\n",
       "    .dataframe tbody tr th {\n",
       "        vertical-align: top;\n",
       "    }\n",
       "\n",
       "    .dataframe thead th {\n",
       "        text-align: right;\n",
       "    }\n",
       "</style>\n",
       "<table border=\"1\" class=\"dataframe\">\n",
       "  <thead>\n",
       "    <tr style=\"text-align: right;\">\n",
       "      <th></th>\n",
       "      <th>z = 0</th>\n",
       "      <th>z = 1</th>\n",
       "    </tr>\n",
       "  </thead>\n",
       "  <tbody>\n",
       "    <tr>\n",
       "      <th>x = 0</th>\n",
       "      <td>0.25</td>\n",
       "      <td>0.25</td>\n",
       "    </tr>\n",
       "    <tr>\n",
       "      <th>x = 1</th>\n",
       "      <td>0.00</td>\n",
       "      <td>0.50</td>\n",
       "    </tr>\n",
       "  </tbody>\n",
       "</table>\n",
       "</div>"
      ],
      "text/plain": [
       "       z = 0  z = 1\n",
       "x = 0   0.25   0.25\n",
       "x = 1   0.00   0.50"
      ]
     },
     "execution_count": 73,
     "metadata": {},
     "output_type": "execute_result"
    }
   ],
   "source": [
    "df_joint"
   ]
  },
  {
   "cell_type": "code",
   "execution_count": 76,
   "metadata": {
    "ExecuteTime": {
     "end_time": "2020-10-13T01:43:00.200076Z",
     "start_time": "2020-10-13T01:43:00.197272Z"
    }
   },
   "outputs": [],
   "source": [
    "p_x = df_joint.sum(axis = 1).values"
   ]
  },
  {
   "cell_type": "code",
   "execution_count": 78,
   "metadata": {
    "ExecuteTime": {
     "end_time": "2020-10-13T01:43:22.603026Z",
     "start_time": "2020-10-13T01:43:22.599744Z"
    }
   },
   "outputs": [
    {
     "data": {
      "text/plain": [
       "(2,)"
      ]
     },
     "execution_count": 78,
     "metadata": {},
     "output_type": "execute_result"
    }
   ],
   "source": [
    "p_x.shape"
   ]
  },
  {
   "cell_type": "code",
   "execution_count": 79,
   "metadata": {
    "ExecuteTime": {
     "end_time": "2020-10-13T01:43:48.020532Z",
     "start_time": "2020-10-13T01:43:48.016616Z"
    }
   },
   "outputs": [
    {
     "data": {
      "text/plain": [
       "array([[0.5],\n",
       "       [0.5]])"
      ]
     },
     "execution_count": 79,
     "metadata": {},
     "output_type": "execute_result"
    }
   ],
   "source": [
    "p_x.reshape(2, 1)"
   ]
  },
  {
   "cell_type": "code",
   "execution_count": 80,
   "metadata": {
    "ExecuteTime": {
     "end_time": "2020-10-13T01:44:13.602515Z",
     "start_time": "2020-10-13T01:44:13.599520Z"
    }
   },
   "outputs": [],
   "source": [
    "p_zgx = df_joint.values / p_x.reshape(2,1 )"
   ]
  },
  {
   "cell_type": "code",
   "execution_count": 84,
   "metadata": {
    "ExecuteTime": {
     "end_time": "2020-10-13T01:44:37.820211Z",
     "start_time": "2020-10-13T01:44:37.813981Z"
    }
   },
   "outputs": [
    {
     "data": {
      "text/html": [
       "<div>\n",
       "<style scoped>\n",
       "    .dataframe tbody tr th:only-of-type {\n",
       "        vertical-align: middle;\n",
       "    }\n",
       "\n",
       "    .dataframe tbody tr th {\n",
       "        vertical-align: top;\n",
       "    }\n",
       "\n",
       "    .dataframe thead th {\n",
       "        text-align: right;\n",
       "    }\n",
       "</style>\n",
       "<table border=\"1\" class=\"dataframe\">\n",
       "  <thead>\n",
       "    <tr style=\"text-align: right;\">\n",
       "      <th></th>\n",
       "      <th>z = 0</th>\n",
       "      <th>z = 1</th>\n",
       "    </tr>\n",
       "  </thead>\n",
       "  <tbody>\n",
       "    <tr>\n",
       "      <th>x = 0</th>\n",
       "      <td>0.25</td>\n",
       "      <td>0.25</td>\n",
       "    </tr>\n",
       "    <tr>\n",
       "      <th>x = 1</th>\n",
       "      <td>0.00</td>\n",
       "      <td>0.50</td>\n",
       "    </tr>\n",
       "  </tbody>\n",
       "</table>\n",
       "</div>"
      ],
      "text/plain": [
       "       z = 0  z = 1\n",
       "x = 0   0.25   0.25\n",
       "x = 1   0.00   0.50"
      ]
     },
     "execution_count": 84,
     "metadata": {},
     "output_type": "execute_result"
    }
   ],
   "source": [
    "df_joint"
   ]
  },
  {
   "cell_type": "code",
   "execution_count": 85,
   "metadata": {
    "ExecuteTime": {
     "end_time": "2020-10-13T01:45:02.217086Z",
     "start_time": "2020-10-13T01:45:02.210731Z"
    }
   },
   "outputs": [
    {
     "data": {
      "text/html": [
       "<div>\n",
       "<style scoped>\n",
       "    .dataframe tbody tr th:only-of-type {\n",
       "        vertical-align: middle;\n",
       "    }\n",
       "\n",
       "    .dataframe tbody tr th {\n",
       "        vertical-align: top;\n",
       "    }\n",
       "\n",
       "    .dataframe thead th {\n",
       "        text-align: right;\n",
       "    }\n",
       "</style>\n",
       "<table border=\"1\" class=\"dataframe\">\n",
       "  <thead>\n",
       "    <tr style=\"text-align: right;\">\n",
       "      <th></th>\n",
       "      <th>x</th>\n",
       "      <th>y</th>\n",
       "      <th>z (OR)</th>\n",
       "    </tr>\n",
       "  </thead>\n",
       "  <tbody>\n",
       "    <tr>\n",
       "      <th>0</th>\n",
       "      <td>0</td>\n",
       "      <td>0</td>\n",
       "      <td>0</td>\n",
       "    </tr>\n",
       "    <tr>\n",
       "      <th>1</th>\n",
       "      <td>0</td>\n",
       "      <td>1</td>\n",
       "      <td>1</td>\n",
       "    </tr>\n",
       "    <tr>\n",
       "      <th>2</th>\n",
       "      <td>1</td>\n",
       "      <td>0</td>\n",
       "      <td>1</td>\n",
       "    </tr>\n",
       "    <tr>\n",
       "      <th>3</th>\n",
       "      <td>1</td>\n",
       "      <td>1</td>\n",
       "      <td>1</td>\n",
       "    </tr>\n",
       "  </tbody>\n",
       "</table>\n",
       "</div>"
      ],
      "text/plain": [
       "   x  y  z (OR)\n",
       "0  0  0       0\n",
       "1  0  1       1\n",
       "2  1  0       1\n",
       "3  1  1       1"
      ]
     },
     "execution_count": 85,
     "metadata": {},
     "output_type": "execute_result"
    }
   ],
   "source": [
    "or_df"
   ]
  },
  {
   "cell_type": "code",
   "execution_count": 86,
   "metadata": {
    "ExecuteTime": {
     "end_time": "2020-10-13T01:46:02.387188Z",
     "start_time": "2020-10-13T01:46:02.383036Z"
    }
   },
   "outputs": [],
   "source": [
    "element_wise_information?"
   ]
  },
  {
   "cell_type": "code",
   "execution_count": 88,
   "metadata": {
    "ExecuteTime": {
     "end_time": "2020-10-13T01:47:02.792726Z",
     "start_time": "2020-10-13T01:47:02.788852Z"
    }
   },
   "outputs": [
    {
     "data": {
      "text/plain": [
       "array([0.5, 0.5])"
      ]
     },
     "execution_count": 88,
     "metadata": {},
     "output_type": "execute_result"
    }
   ],
   "source": [
    "p_x"
   ]
  },
  {
   "cell_type": "code",
   "execution_count": 89,
   "metadata": {
    "ExecuteTime": {
     "end_time": "2020-10-13T01:48:01.840662Z",
     "start_time": "2020-10-13T01:48:01.838304Z"
    }
   },
   "outputs": [],
   "source": [
    "# H (Z | X )\n",
    "h_zgx = np.sum(p_x * element_wise_information(p_zgx))"
   ]
  },
  {
   "cell_type": "markdown",
   "metadata": {},
   "source": [
    "$$\n",
    "H(Z | X) = -  \\sum_{X} P(X) \\,\\mathrm{log_2} P(Z | X)\n",
    "$$"
   ]
  },
  {
   "cell_type": "code",
   "execution_count": 92,
   "metadata": {
    "ExecuteTime": {
     "end_time": "2020-10-13T01:49:18.040159Z",
     "start_time": "2020-10-13T01:49:18.037921Z"
    }
   },
   "outputs": [],
   "source": [
    "h_z = entropy(p_z)"
   ]
  },
  {
   "cell_type": "code",
   "execution_count": 93,
   "metadata": {
    "ExecuteTime": {
     "end_time": "2020-10-13T01:49:18.323573Z",
     "start_time": "2020-10-13T01:49:18.320605Z"
    }
   },
   "outputs": [
    {
     "data": {
      "text/plain": [
       "0.8112781244591328"
      ]
     },
     "execution_count": 93,
     "metadata": {},
     "output_type": "execute_result"
    }
   ],
   "source": [
    "h_z"
   ]
  },
  {
   "cell_type": "code",
   "execution_count": 94,
   "metadata": {
    "ExecuteTime": {
     "end_time": "2020-10-13T01:49:28.010988Z",
     "start_time": "2020-10-13T01:49:28.008482Z"
    }
   },
   "outputs": [],
   "source": [
    "# MI = H(Z)  - H( Z | X )\n",
    "mi = h_z - h_zgx"
   ]
  },
  {
   "cell_type": "code",
   "execution_count": 95,
   "metadata": {
    "ExecuteTime": {
     "end_time": "2020-10-13T01:49:29.677073Z",
     "start_time": "2020-10-13T01:49:29.673978Z"
    }
   },
   "outputs": [
    {
     "data": {
      "text/plain": [
       "0.31127812445913283"
      ]
     },
     "execution_count": 95,
     "metadata": {},
     "output_type": "execute_result"
    }
   ],
   "source": [
    "mi"
   ]
  },
  {
   "cell_type": "markdown",
   "metadata": {},
   "source": [
    "#### The end"
   ]
  },
  {
   "cell_type": "markdown",
   "metadata": {},
   "source": [
    "This is the end... my only friend, the end. "
   ]
  }
 ],
 "metadata": {
  "kernelspec": {
   "display_name": "Python 3",
   "language": "python",
   "name": "python3"
  },
  "language_info": {
   "codemirror_mode": {
    "name": "ipython",
    "version": 3
   },
   "file_extension": ".py",
   "mimetype": "text/x-python",
   "name": "python",
   "nbconvert_exporter": "python",
   "pygments_lexer": "ipython3",
   "version": "3.7.6"
  },
  "toc": {
   "base_numbering": 1,
   "nav_menu": {},
   "number_sections": true,
   "sideBar": true,
   "skip_h1_title": false,
   "title_cell": "Table of Contents",
   "title_sidebar": "Contents",
   "toc_cell": false,
   "toc_position": {},
   "toc_section_display": true,
   "toc_window_display": false
  },
  "varInspector": {
   "cols": {
    "lenName": 16,
    "lenType": 16,
    "lenVar": 40
   },
   "kernels_config": {
    "python": {
     "delete_cmd_postfix": "",
     "delete_cmd_prefix": "del ",
     "library": "var_list.py",
     "varRefreshCmd": "print(var_dic_list())"
    },
    "r": {
     "delete_cmd_postfix": ") ",
     "delete_cmd_prefix": "rm(",
     "library": "var_list.r",
     "varRefreshCmd": "cat(var_dic_list()) "
    }
   },
   "types_to_exclude": [
    "module",
    "function",
    "builtin_function_or_method",
    "instance",
    "_Feature"
   ],
   "window_display": false
  }
 },
 "nbformat": 4,
 "nbformat_minor": 4
}
